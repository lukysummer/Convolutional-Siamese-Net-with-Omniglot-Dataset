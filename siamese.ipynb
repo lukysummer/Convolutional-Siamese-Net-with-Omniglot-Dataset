{
  "nbformat": 4,
  "nbformat_minor": 0,
  "metadata": {
    "colab": {
      "name": "siamese.ipynb",
      "provenance": [],
      "collapsed_sections": []
    },
    "kernelspec": {
      "name": "python3",
      "display_name": "Python 3"
    },
    "accelerator": "GPU"
  },
  "cells": [
    {
      "cell_type": "code",
      "metadata": {
        "id": "DVRxB15xnXAl",
        "colab_type": "code",
        "colab": {}
      },
      "source": [
        "import os, random, time\n",
        "import pickle as pkl\n",
        "import numpy as np\n",
        "import matplotlib.pyplot as plt\n",
        "from PIL import Image\n",
        "import torch\n",
        "from torch import nn, optim\n",
        "from torch.autograd import Variable\n",
        "from torch.utils.data import Dataset, DataLoader, random_split\n",
        "from torchvision import transforms\n",
        "%matplotlib inline"
      ],
      "execution_count": 1,
      "outputs": []
    },
    {
      "cell_type": "code",
      "metadata": {
        "id": "y5KDDmEso7zs",
        "colab_type": "code",
        "colab": {
          "base_uri": "https://localhost:8080/",
          "height": 85
        },
        "outputId": "44ad73a1-13c1-47fa-a4fb-15c5f9d4bf88"
      },
      "source": [
        "###########################################################################\n",
        "### 1. Clone & unzip OMNIGLOT dataset #####################################\n",
        "###########################################################################\n",
        "!git clone https://github.com/brendenlake/omniglot.git"
      ],
      "execution_count": 2,
      "outputs": [
        {
          "output_type": "stream",
          "text": [
            "Cloning into 'omniglot'...\n",
            "remote: Enumerating objects: 81, done.\u001b[K\n",
            "remote: Total 81 (delta 0), reused 0 (delta 0), pack-reused 81\u001b[K\n",
            "Unpacking objects: 100% (81/81), done.\n"
          ],
          "name": "stdout"
        }
      ]
    },
    {
      "cell_type": "code",
      "metadata": {
        "id": "A25TMsDEqKvn",
        "colab_type": "code",
        "colab": {}
      },
      "source": [
        "!unzip ./images_background.zip -d ."
      ],
      "execution_count": null,
      "outputs": []
    },
    {
      "cell_type": "code",
      "metadata": {
        "id": "h5tJJS8erL7w",
        "colab_type": "code",
        "colab": {}
      },
      "source": [
        "!unzip ./images_evaluation.zip -d ."
      ],
      "execution_count": null,
      "outputs": []
    },
    {
      "cell_type": "markdown",
      "metadata": {
        "id": "e6_3-YdWu4Sp",
        "colab_type": "text"
      },
      "source": [
        "## Codes below were developed with help from:\n",
        "https://github.com/fangpin/siamese-pytorch\n",
        "\n",
        "https://towardsdatascience.com/building-a-one-shot-learning-network-with-pytorch-d1c3a5fafa4a\n",
        "\n",
        "https://github.com/ttchengab/One_Shot_Pytorch/"
      ]
    },
    {
      "cell_type": "code",
      "metadata": {
        "id": "pUoyTLrxmQ3M",
        "colab_type": "code",
        "colab": {}
      },
      "source": [
        "###########################################################################\n",
        "### 2. Define Train Dataset ###############################################\n",
        "###########################################################################\n",
        "class OmniglotTrainDataset(Dataset):\n",
        "    \n",
        "    def __init__(self, root_dir, max_n_data, transform=None):\n",
        "        super(OmniglotTrainDataset, self).__init__()\n",
        "\n",
        "        self.root_dir = root_dir\n",
        "        self.max_n_data = max_n_data\n",
        "        self.transform = transform\n",
        "        self.imgs_dict, self.n_classes, self.n_imgs = self.load_images()\n",
        "    \n",
        "    def __len__(self):\n",
        "        ''' Dataset iterates over a list of indices (index) = [0, __len__] '''\n",
        "        return self.max_n_data\n",
        "     \n",
        "    def load_images(self):\n",
        "        print(\"Loading training dataset...\")\n",
        "        imgs_dict = {}\n",
        "        char_i, img_i = 0, 0\n",
        "        \n",
        "        # Store data w/ different index key per each character \n",
        "        for alphaPath in os.listdir(self.root_dir): # Korean, Greek, ....\n",
        "            for charPath in os.listdir(os.path.join(self.root_dir,alphaPath)): # ㄱ,ㄴ,ㄷ,...\n",
        "                imgs_dict[char_i] = []                  \n",
        "                for imgPath in os.listdir(os.path.join(self.root_dir, alphaPath, charPath)):\n",
        "                    imgs_dict[char_i].append(\n",
        "                        Image.open(os.path.join(self.root_dir,alphaPath,charPath,imgPath)).convert('L') #greyscale\n",
        "                        )\n",
        "                    img_i += 1\n",
        "                char_i += 1\n",
        "        print(\"DONE: %d char classes & %d total images.\"%(char_i, img_i))\n",
        "        \n",
        "        return imgs_dict, char_i, img_i        \n",
        "\n",
        "\n",
        "    def __getitem__(self, index):   \n",
        "        ''' index: Dataset iterates over a list of indices (index) = [0, __len__] '''\n",
        "        \n",
        "        # Get an image of a random char class\n",
        "        char_i = np.random.randint(self.n_classes)\n",
        "        img1 = random.choice(self.imgs_dict[char_i])\n",
        "        \n",
        "        # Get another image of the SAME char class\n",
        "        if index%2 == 1:\n",
        "            label = torch.from_numpy(np.array([1.0], dtype=np.float32))            \n",
        "            img2 = random.choice(self.imgs_dict[char_i])           \n",
        "            \n",
        "        # Get an image of a DIFFERENT char class\n",
        "        else:\n",
        "            label = torch.from_numpy(np.array([0.0], dtype=np.float32))           \n",
        "            char_j = np.random.randint(self.n_classes)\n",
        "            while char_j == char_i:\n",
        "                char_j = np.random.randint(self.n_classes)\n",
        "            img2 = random.choice(self.imgs_dict[char_j]) \n",
        "        \n",
        "        if self.transform:\n",
        "            img1 = self.transform(img1)\n",
        "            img2 = self.transform(img2)\n",
        "        \n",
        "        return img1, img2, label"
      ],
      "execution_count": 5,
      "outputs": []
    },
    {
      "cell_type": "code",
      "metadata": {
        "id": "rk0IHDR5nUb5",
        "colab_type": "code",
        "colab": {}
      },
      "source": [
        "###########################################################################\n",
        "### 3. Define Test Dataset ################################################\n",
        "###########################################################################\n",
        "class NWayOneShotTestSet(Dataset):\n",
        "    \n",
        "    def __init__(self, root_dir, max_n_data, n_way, transform=None):\n",
        "        super(NWayOneShotTestSet, self).__init__()\n",
        "\n",
        "        self.root_dir = root_dir\n",
        "        self.max_n_data = max_n_data\n",
        "        self.n_way = n_way\n",
        "        self.transform = transform\n",
        "        self.imgs_dict, self.n_classes, self.n_imgs = self.load_images()\n",
        "    \n",
        "    def __len__(self):\n",
        "        ''' Dataset iterates over a list of indices (index) = [0, __len__] '''\n",
        "        return self.max_n_data\n",
        "     \n",
        "    def load_images(self):\n",
        "        print(\"Loading test dataset...\")\n",
        "        imgs_dict = {}\n",
        "        char_i, img_i = 0, 0\n",
        "        \n",
        "        # Store data w/ different index key per each character \n",
        "        for alphaPath in os.listdir(self.root_dir): # Korean, Greek, ....\n",
        "            for charPath in os.listdir(os.path.join(self.root_dir,alphaPath)): # ㄱ,ㄴ,ㄷ,...\n",
        "                imgs_dict[char_i] = []                  \n",
        "                for imgPath in os.listdir(os.path.join(self.root_dir, alphaPath, charPath)):\n",
        "                    imgs_dict[char_i].append(\n",
        "                        Image.open(os.path.join(self.root_dir,alphaPath,charPath,imgPath)).convert('L') #greyscale\n",
        "                        )\n",
        "                    img_i += 1\n",
        "                char_i += 1\n",
        "        print(\"DONE: %d char classes & %d total images.\"%(char_i, img_i))\n",
        "        \n",
        "        return imgs_dict, char_i, img_i        \n",
        "\n",
        "    def __getitem__(self, index): # index = batch_i\n",
        "        ''' index: Dataset iterates over a list of indices (index) = [0, __len__] '''\n",
        "   \n",
        "        # Get an image of a random char class\n",
        "        char_i = np.random.randint(self.n_classes)\n",
        "        img2classify = random.choice(self.imgs_dict[char_i])\n",
        "        if self.transform: \n",
        "            img2classify = self.transform(img2classify)\n",
        "        \n",
        "        imgs2compare = [] # N images (1 img/ 1 NOVEL char class)\n",
        "        label = np.random.randint(self.n_way)\n",
        "       \n",
        "        for i in range(self.n_way):\n",
        "            if i == label:\n",
        "                img = random.choice(self.imgs_dict[char_i])\n",
        "            else:\n",
        "                non_label = np.random.randint(self.n_classes)\n",
        "                while non_label == label:\n",
        "                    non_label = np.random.randint(self.n_classes)\n",
        "                img = random.choice(self.imgs_dict[non_label])\n",
        "            \n",
        "            if self.transform:              \n",
        "                img = self.transform(img)\n",
        "            \n",
        "            imgs2compare.append(img)\n",
        "              \n",
        "        return img2classify, imgs2compare, torch.from_numpy(np.array([label], dtype = int))"
      ],
      "execution_count": 6,
      "outputs": []
    },
    {
      "cell_type": "code",
      "metadata": {
        "id": "lQJe5jOvncjR",
        "colab_type": "code",
        "colab": {
          "base_uri": "https://localhost:8080/",
          "height": 85
        },
        "outputId": "2eae73dc-a97e-414d-ff86-b8e44d402241"
      },
      "source": [
        "###########################################################################\n",
        "### 4. Make Dataloaders ###################################################\n",
        "###########################################################################\n",
        "data_transforms = transforms.Compose([\n",
        "                            transforms.RandomAffine(15),\n",
        "                            transforms.ToTensor()\n",
        "                            ])\n",
        "if os.path.exists(\"training_set.pkl\"):\n",
        "    training_set = pkl.load(open(\"training_set.pkl\", \"rb\"))\n",
        "else:\n",
        "    training_set = OmniglotTrainDataset(\"images_background\", max_n_data=10000, transform=data_transforms)\n",
        "    pkl.dump(training_set, open(\"training_set.pkl\", \"wb\"))\n",
        "\n",
        "train_ratio = 0.8\n",
        "train_size = int(len(training_set)*train_ratio)\n",
        "train_data, valid_data = random_split(training_set, [train_size, len(training_set)-train_size])\n",
        "\n",
        "batch_size = 128\n",
        "num_workers = 16\n",
        "train_loader = DataLoader(train_data, batch_size=batch_size, num_workers=num_workers)\n",
        "valid_loader = DataLoader(valid_data, batch_size=batch_size, num_workers=num_workers, shuffle=True)     \n",
        "\n",
        "if os.path.exists(\"test_set.pkl\"):\n",
        "    test_set = pkl.load(open(\"test_set.pkl\", \"rb\"))\n",
        "else:\n",
        "    test_set = NWayOneShotTestSet(\"images_evaluation\", max_n_data=5000, n_way=20, transform=data_transforms)\n",
        "    pkl.dump(test_set, open(\"test_set.pkl\", \"wb\"))\n",
        "    \n",
        "test_loader = DataLoader(test_set, batch_size=1, num_workers=2, shuffle=True) "
      ],
      "execution_count": 7,
      "outputs": [
        {
          "output_type": "stream",
          "text": [
            "Loading training dataset...\n",
            "DONE: 964 char classes & 19280 total images.\n",
            "Loading test dataset...\n",
            "DONE: 659 char classes & 13180 total images.\n"
          ],
          "name": "stdout"
        }
      ]
    },
    {
      "cell_type": "code",
      "metadata": {
        "id": "PUEFliCbnimc",
        "colab_type": "code",
        "colab": {
          "base_uri": "https://localhost:8080/",
          "height": 155
        },
        "outputId": "4e2aaac3-8c40-403d-bb13-a5dd977cf9d2"
      },
      "source": [
        "# Show some training examples\n",
        "for i, (img1, img2, label) in enumerate(train_loader):\n",
        "    if i >= 1:\n",
        "        break\n",
        "   \n",
        "    plt.subplot(1, 8, 1)\n",
        "    plt.imshow(img1[0][0])\n",
        "    plt.subplot(1, 8, 2)\n",
        "    plt.imshow(img2[0][0])\n",
        "    print(label[0])\n",
        "    \n",
        "    plt.subplot(1, 8, 3)\n",
        "    plt.imshow(img1[1][0])\n",
        "    plt.subplot(1, 8, 4)\n",
        "    plt.imshow(img2[1][0])\n",
        "    print(label[1])\n",
        "    \n",
        "    plt.subplot(1, 8, 5)\n",
        "    plt.imshow(img1[2][0])\n",
        "    plt.subplot(1, 8, 6)\n",
        "    plt.imshow(img2[2][0])\n",
        "    print(label[2])\n",
        "    \n",
        "    plt.subplot(1, 8, 7)\n",
        "    plt.imshow(img1[3][0])\n",
        "    plt.subplot(1, 8, 8)\n",
        "    plt.imshow(img2[3][0])\n",
        "    print(label[3])\n",
        "    \n",
        "    plt.show()\n",
        "    i += 1"
      ],
      "execution_count": 8,
      "outputs": [
        {
          "output_type": "stream",
          "text": [
            "tensor([1.])\n",
            "tensor([1.])\n",
            "tensor([1.])\n",
            "tensor([0.])\n"
          ],
          "name": "stdout"
        },
        {
          "output_type": "display_data",
          "data": {
            "image/png": "[encoded data removed]",
            "text/plain": [
              "<Figure size 432x288 with 8 Axes>"
            ]
          },
          "metadata": {
            "tags": [],
            "needs_background": "light"
          }
        }
      ]
    },
    {
      "cell_type": "code",
      "metadata": {
        "id": "4GHyL53wnonS",
        "colab_type": "code",
        "colab": {
          "base_uri": "https://localhost:8080/",
          "height": 203
        },
        "outputId": "87a902b1-a0f0-4537-eb73-3a3b4daf48f4"
      },
      "source": [
        "# Show some test examples\n",
        "for i, (img1, imgs, label) in enumerate(test_loader):\n",
        "    if i>=1:\n",
        "        break\n",
        "    for j, img in enumerate(imgs):\n",
        "        if j == label[0]:  \n",
        "            plt.subplot(1, 2, 1)\n",
        "            plt.imshow(img[0][0])\n",
        "            plt.subplot(1, 2, 2)\n",
        "            plt.imshow(img1[0][0])\n",
        "            plt.show()\n",
        "            break"
      ],
      "execution_count": 9,
      "outputs": [
        {
          "output_type": "display_data",
          "data": {
            "image/png": "[encoded data removed]",
            "text/plain": [
              "<Figure size 432x288 with 2 Axes>"
            ]
          },
          "metadata": {
            "tags": [],
            "needs_background": "light"
          }
        }
      ]
    },
    {
      "cell_type": "code",
      "metadata": {
        "id": "a2fHxBnGnzfV",
        "colab_type": "code",
        "colab": {}
      },
      "source": [
        "###########################################################################\n",
        "### 5. Define Model #######################################################\n",
        "###### *NOTE* : BatchNorm after each CNN layer is important! ##############\n",
        "######### Without it, weight diverges (unchanging train/valid losses) #####\n",
        "###########################################################################\n",
        "class SiameseNet(nn.Module):\n",
        "    def __init__(self):\n",
        "        super(SiameseNet, self).__init__()\n",
        "        \n",
        "        # Conv2d(in_channels, out_channels, kernel_size)\n",
        "        self.conv = nn.Sequential(             # [1, 105, 105]\n",
        "                        nn.Conv2d(1, 64, 10),  # [64, 96, 96]\n",
        "                        nn.ReLU(inplace=True),\n",
        "                        nn.BatchNorm2d(64),\n",
        "                        nn.MaxPool2d(2),       # [64, 48, 48]\n",
        "                        nn.Conv2d(64, 128, 7), # [128, 42, 42]\n",
        "                        nn.ReLU(),    \n",
        "                        nn.BatchNorm2d(128),\n",
        "                        nn.MaxPool2d(2),       # [128, 21, 21]\n",
        "                        nn.Conv2d(128, 128, 4),# [128, 18, 18]\n",
        "                        nn.ReLU(), \n",
        "                        nn.BatchNorm2d(128),\n",
        "                        nn.MaxPool2d(2),       # [128, 9, 9]\n",
        "                        nn.Conv2d(128, 256, 4),# [256, 6, 6]\n",
        "                        nn.ReLU(), \n",
        "                        nn.BatchNorm2d(256),\n",
        "                    )\n",
        "        \n",
        "        self.fc1 = nn.Sequential(nn.Linear(256*6*6, 4096), nn.Sigmoid())\n",
        "        self.fc_final = nn.Linear(4096, 1)\n",
        "        \n",
        "    def forward_one(self, x):\n",
        "        out = self.conv(x)\n",
        "        out = out.view(-1, 256*6*6)\n",
        "        out = self.fc1(out)\n",
        "    \n",
        "        return out\n",
        "    \n",
        "    def forward(self, x1, x2):\n",
        "        out1 = self.forward_one(x1)\n",
        "        out2 = self.forward_one(x2)\n",
        "        \n",
        "        dist_vec = torch.abs(out1 - out2)\n",
        "        similarity_score = self.fc_final(dist_vec)\n",
        "        \n",
        "        return similarity_score"
      ],
      "execution_count": 32,
      "outputs": []
    },
    {
      "cell_type": "code",
      "metadata": {
        "id": "x7tLHcwqoujD",
        "colab_type": "code",
        "colab": {
          "base_uri": "https://localhost:8080/",
          "height": 493
        },
        "outputId": "bedb0312-5ad6-48b7-d002-2f8f7d5d95df"
      },
      "source": [
        "model = SiameseNet()\n",
        "device = \"cuda\" if torch.cuda.is_available() else \"cpu\"\n",
        "model = model.to(device)\n",
        "    \n",
        "def count_parameters(\n",
        "    model):\n",
        "    n_params = sum(p.numel() for p in model.parameters() if p.requires_grad)\n",
        "    print(\"Model Architecture:\\n\", model)\n",
        "    print(\"\\nThe model has %d trainable parameters.\\n\"%n_params)\n",
        "\n",
        "count_parameters(model)"
      ],
      "execution_count": 33,
      "outputs": [
        {
          "output_type": "stream",
          "text": [
            "Model Architecture:\n",
            " SiameseNet(\n",
            "  (conv): Sequential(\n",
            "    (0): Conv2d(1, 64, kernel_size=(10, 10), stride=(1, 1))\n",
            "    (1): ReLU(inplace=True)\n",
            "    (2): BatchNorm2d(64, eps=1e-05, momentum=0.1, affine=True, track_running_stats=True)\n",
            "    (3): MaxPool2d(kernel_size=2, stride=2, padding=0, dilation=1, ceil_mode=False)\n",
            "    (4): Conv2d(64, 128, kernel_size=(7, 7), stride=(1, 1))\n",
            "    (5): ReLU()\n",
            "    (6): BatchNorm2d(128, eps=1e-05, momentum=0.1, affine=True, track_running_stats=True)\n",
            "    (7): MaxPool2d(kernel_size=2, stride=2, padding=0, dilation=1, ceil_mode=False)\n",
            "    (8): Conv2d(128, 128, kernel_size=(4, 4), stride=(1, 1))\n",
            "    (9): ReLU()\n",
            "    (10): BatchNorm2d(128, eps=1e-05, momentum=0.1, affine=True, track_running_stats=True)\n",
            "    (11): MaxPool2d(kernel_size=2, stride=2, padding=0, dilation=1, ceil_mode=False)\n",
            "    (12): Conv2d(128, 256, kernel_size=(4, 4), stride=(1, 1))\n",
            "    (13): ReLU()\n",
            "    (14): BatchNorm2d(256, eps=1e-05, momentum=0.1, affine=True, track_running_stats=True)\n",
            "  )\n",
            "  (fc1): Sequential(\n",
            "    (0): Linear(in_features=9216, out_features=4096, bias=True)\n",
            "    (1): Sigmoid()\n",
            "  )\n",
            "  (fc_final): Linear(in_features=4096, out_features=1, bias=True)\n",
            ")\n",
            "\n",
            "The model has 38952897 trainable parameters.\n",
            "\n"
          ],
          "name": "stdout"
        }
      ]
    },
    {
      "cell_type": "code",
      "metadata": {
        "id": "mU3AbRVcoxPx",
        "colab_type": "code",
        "colab": {
          "base_uri": "https://localhost:8080/",
          "height": 71
        },
        "outputId": "15927d63-1f97-466b-f02b-2b789eb601d4"
      },
      "source": [
        "###########################################################################\n",
        "### 6. Define Loss & Optimizer ############################################\n",
        "###########################################################################\n",
        "criterion = nn.BCEWithLogitsLoss(size_average=True)\n",
        "optimizer = optim.Adam(model.parameters(), lr=0.00006)"
      ],
      "execution_count": 10,
      "outputs": [
        {
          "output_type": "stream",
          "text": [
            "/usr/local/lib/python3.6/dist-packages/torch/nn/_reduction.py:44: UserWarning: size_average and reduce args will be deprecated, please use reduction='mean' instead.\n",
            "  warnings.warn(warning.format(ret))\n"
          ],
          "name": "stderr"
        }
      ]
    },
    {
      "cell_type": "code",
      "metadata": {
        "id": "4xVW8hYOwdd2",
        "colab_type": "code",
        "colab": {}
      },
      "source": [
        "###########################################################################\n",
        "### 7. Train! #############################################################\n",
        "###########################################################################\n",
        "def train(model, criterion, optimizer, \n",
        "          n_epochs=100, n_test=200, print_every=20, save_model_path = \"model\", save_loss_dict_path = \"loss_dict\"):\n",
        "    loss_dict = {}\n",
        "    loss_dict[\"train_losses\"] =  []\n",
        "    loss_dict[\"valid_losses\"] = []\n",
        "    loss_dict[\"test_accs\"] = []\n",
        "    best_test_acc = 0.0\n",
        "    start = time.time()\n",
        "      \n",
        "    prev_save = \"\"\n",
        "    for e in range(n_epochs):\n",
        "        model.train()\n",
        "        running_loss = 0.0\n",
        "        for batch_i, (img1, img2, labels) in enumerate(train_loader):\n",
        "            img1, img2, labels = img1.to(device), img2.to(device), labels.to(device)\n",
        "            outs = model(img1, img2)\n",
        "            loss = criterion(outs, labels)            \n",
        "            running_loss += loss.item()\n",
        "            optimizer.zero_grad()    \n",
        "            loss.backward()\n",
        "            optimizer.step()\n",
        "            ########################### Validation ############################\n",
        "            if (batch_i+1) % print_every == 0: \n",
        "                model.eval()\n",
        "                running_loss_val = 0\n",
        "\n",
        "                with torch.no_grad():\n",
        "                    for img1, img2, labels in valid_loader:\n",
        "                        img1, img2, labels = img1.to(device), img2.to(device), labels.to(device)\n",
        "                        outs = model(img1, img2)\n",
        "                        loss = criterion(outs, labels)            \n",
        "                        running_loss_val += loss.item()\n",
        "                    \n",
        "                    avg_train_loss = running_loss/print_every\n",
        "                    loss_dict[\"train_losses\"].append(avg_train_loss)\n",
        "                    avg_val_loss = running_loss_val/len(valid_loader)\n",
        "                    loss_dict[\"valid_losses\"].append(avg_val_loss)\n",
        "                    \n",
        "                    ######################## One-shot Test ####################\n",
        "                    correct = 0                \n",
        "                    for i, (img1, imgs, label) in enumerate(test_loader): \n",
        "                        # just test on random 200 test data (contains only NOVEL char classes)\n",
        "                        if i >= n_test:\n",
        "                            break\n",
        "                        img1 = img1.to(device)\n",
        "                        similarity_scores = []\n",
        "                        for j, img2 in enumerate(imgs):\n",
        "                            img2 = img2.to(device)\n",
        "                            similarity_scores.append( model(img1, img2) )\n",
        "                        if np.argmax(similarity_scores) == label[0]:\n",
        "                            correct += 1                       \n",
        "                    test_acc = correct/n_test\n",
        "                    loss_dict[\"test_accs\"].append(test_acc)\n",
        "                    \n",
        "                    print(\"Epoch: %d/%d  (batch: %d)  train loss: %.5f  val loss: %.5f  one-shot acc: %.3f  elapsed time(s): %.2f\" % \n",
        "                              (e+1, n_epochs, batch_i+1, avg_train_loss, avg_val_loss, test_acc, time.time()-start))\n",
        "                    \n",
        "                    ## if best 1-shot test accuracy, save model checkpoint & loss_dict ##\n",
        "                    if test_acc > best_test_acc:                    \n",
        "                        best_test_acc = test_acc\n",
        "                        if prev_save:\n",
        "                            os.remove(save_model_path     + prev_save + \".pt\")\n",
        "                            os.remove(save_loss_dict_path + prev_save + \".pkl\")\n",
        "                        prev_save = \"_\" + str(e+1) \n",
        "                        torch.save(model.state_dict(), save_model_path + prev_save + \".pt\")\n",
        "                        pkl.dump(loss_dict, open(save_loss_dict_path + prev_save + \".pkl\", \"wb\"))\n",
        "\n",
        "                    running_loss = 0\n",
        "                    start = time.time()\n",
        "                    model.train()\n",
        "\n",
        "    return loss_dict"
      ],
      "execution_count": 35,
      "outputs": []
    },
    {
      "cell_type": "code",
      "metadata": {
        "id": "7okE8Y5DogGY",
        "colab_type": "code",
        "colab": {
          "base_uri": "https://localhost:8080/",
          "height": 1000
        },
        "outputId": "45c73dd8-c49e-43c9-f5f0-470e7ee20695"
      },
      "source": [
        "loss_dict = train(model, criterion, optimizer)"
      ],
      "execution_count": 11,
      "outputs": [
        {
          "output_type": "stream",
          "text": [
            "Epoch: 1/100  (batch: 20)  train loss: 0.54127  val loss: 0.74527  one-shot acc: 0.095  elapsed time(s): 20.25\n",
            "Epoch: 1/100  (batch: 40)  train loss: 0.47233  val loss: 0.44742  one-shot acc: 0.220  elapsed time(s): 18.68\n",
            "Epoch: 1/100  (batch: 60)  train loss: 0.44843  val loss: 0.43819  one-shot acc: 0.190  elapsed time(s): 18.64\n",
            "Epoch: 2/100  (batch: 20)  train loss: 0.40546  val loss: 0.33711  one-shot acc: 0.350  elapsed time(s): 20.51\n",
            "Epoch: 2/100  (batch: 40)  train loss: 0.34903  val loss: 0.36490  one-shot acc: 0.315  elapsed time(s): 18.66\n",
            "Epoch: 2/100  (batch: 60)  train loss: 0.33435  val loss: 0.31771  one-shot acc: 0.340  elapsed time(s): 18.66\n",
            "Epoch: 3/100  (batch: 20)  train loss: 0.30893  val loss: 0.28490  one-shot acc: 0.465  elapsed time(s): 20.74\n",
            "Epoch: 3/100  (batch: 40)  train loss: 0.29939  val loss: 0.26471  one-shot acc: 0.380  elapsed time(s): 18.70\n",
            "Epoch: 3/100  (batch: 60)  train loss: 0.26005  val loss: 0.30440  one-shot acc: 0.435  elapsed time(s): 18.63\n",
            "Epoch: 4/100  (batch: 20)  train loss: 0.25993  val loss: 0.21611  one-shot acc: 0.470  elapsed time(s): 20.51\n",
            "Epoch: 4/100  (batch: 40)  train loss: 0.24151  val loss: 0.24384  one-shot acc: 0.510  elapsed time(s): 18.73\n",
            "Epoch: 4/100  (batch: 60)  train loss: 0.21385  val loss: 0.23842  one-shot acc: 0.390  elapsed time(s): 19.08\n",
            "Epoch: 5/100  (batch: 20)  train loss: 0.22023  val loss: 0.34321  one-shot acc: 0.430  elapsed time(s): 20.79\n",
            "Epoch: 5/100  (batch: 40)  train loss: 0.20595  val loss: 0.28004  one-shot acc: 0.470  elapsed time(s): 18.54\n",
            "Epoch: 5/100  (batch: 60)  train loss: 0.19191  val loss: 0.20724  one-shot acc: 0.480  elapsed time(s): 18.64\n",
            "Epoch: 6/100  (batch: 20)  train loss: 0.16920  val loss: 0.13786  one-shot acc: 0.495  elapsed time(s): 20.70\n",
            "Epoch: 6/100  (batch: 40)  train loss: 0.16718  val loss: 0.19384  one-shot acc: 0.575  elapsed time(s): 18.49\n",
            "Epoch: 6/100  (batch: 60)  train loss: 0.15973  val loss: 0.21361  one-shot acc: 0.435  elapsed time(s): 18.44\n",
            "Epoch: 7/100  (batch: 20)  train loss: 0.14240  val loss: 0.12884  one-shot acc: 0.510  elapsed time(s): 20.41\n",
            "Epoch: 7/100  (batch: 40)  train loss: 0.13767  val loss: 0.14857  one-shot acc: 0.505  elapsed time(s): 18.41\n",
            "Epoch: 7/100  (batch: 60)  train loss: 0.13275  val loss: 0.39295  one-shot acc: 0.425  elapsed time(s): 18.44\n",
            "Epoch: 8/100  (batch: 20)  train loss: 0.13638  val loss: 0.20031  one-shot acc: 0.435  elapsed time(s): 20.24\n",
            "Epoch: 8/100  (batch: 40)  train loss: 0.13470  val loss: 0.17914  one-shot acc: 0.540  elapsed time(s): 18.36\n",
            "Epoch: 8/100  (batch: 60)  train loss: 0.12711  val loss: 0.30858  one-shot acc: 0.400  elapsed time(s): 18.45\n",
            "Epoch: 9/100  (batch: 20)  train loss: 0.12167  val loss: 0.16900  one-shot acc: 0.455  elapsed time(s): 20.57\n",
            "Epoch: 9/100  (batch: 40)  train loss: 0.10425  val loss: 0.35556  one-shot acc: 0.385  elapsed time(s): 18.45\n",
            "Epoch: 9/100  (batch: 60)  train loss: 0.09723  val loss: 0.08957  one-shot acc: 0.580  elapsed time(s): 18.35\n",
            "Epoch: 10/100  (batch: 20)  train loss: 0.08811  val loss: 0.07745  one-shot acc: 0.480  elapsed time(s): 20.77\n",
            "Epoch: 10/100  (batch: 40)  train loss: 0.09904  val loss: 0.23383  one-shot acc: 0.480  elapsed time(s): 18.35\n",
            "Epoch: 10/100  (batch: 60)  train loss: 0.10181  val loss: 0.27368  one-shot acc: 0.340  elapsed time(s): 18.40\n",
            "Epoch: 11/100  (batch: 20)  train loss: 0.08890  val loss: 0.12854  one-shot acc: 0.515  elapsed time(s): 20.39\n",
            "Epoch: 11/100  (batch: 40)  train loss: 0.09550  val loss: 0.13003  one-shot acc: 0.550  elapsed time(s): 18.54\n",
            "Epoch: 11/100  (batch: 60)  train loss: 0.08097  val loss: 0.07491  one-shot acc: 0.610  elapsed time(s): 18.36\n",
            "Epoch: 12/100  (batch: 20)  train loss: 0.07022  val loss: 0.06107  one-shot acc: 0.535  elapsed time(s): 20.36\n",
            "Epoch: 12/100  (batch: 40)  train loss: 0.07671  val loss: 0.06702  one-shot acc: 0.555  elapsed time(s): 18.42\n",
            "Epoch: 12/100  (batch: 60)  train loss: 0.07374  val loss: 0.06869  one-shot acc: 0.595  elapsed time(s): 18.47\n",
            "Epoch: 13/100  (batch: 20)  train loss: 0.06223  val loss: 0.08947  one-shot acc: 0.465  elapsed time(s): 20.39\n",
            "Epoch: 13/100  (batch: 40)  train loss: 0.07629  val loss: 0.15642  one-shot acc: 0.560  elapsed time(s): 18.43\n",
            "Epoch: 13/100  (batch: 60)  train loss: 0.07531  val loss: 0.06984  one-shot acc: 0.520  elapsed time(s): 18.48\n",
            "Epoch: 14/100  (batch: 20)  train loss: 0.05794  val loss: 0.09093  one-shot acc: 0.505  elapsed time(s): 20.78\n",
            "Epoch: 14/100  (batch: 40)  train loss: 0.05668  val loss: 0.22494  one-shot acc: 0.495  elapsed time(s): 18.65\n",
            "Epoch: 14/100  (batch: 60)  train loss: 0.05442  val loss: 0.06048  one-shot acc: 0.595  elapsed time(s): 18.74\n",
            "Epoch: 15/100  (batch: 20)  train loss: 0.05391  val loss: 0.04574  one-shot acc: 0.425  elapsed time(s): 20.58\n",
            "Epoch: 15/100  (batch: 40)  train loss: 0.05462  val loss: 0.05994  one-shot acc: 0.600  elapsed time(s): 18.66\n",
            "Epoch: 15/100  (batch: 60)  train loss: 0.05340  val loss: 0.05691  one-shot acc: 0.585  elapsed time(s): 18.62\n",
            "Epoch: 16/100  (batch: 20)  train loss: 0.04869  val loss: 0.04661  one-shot acc: 0.570  elapsed time(s): 20.58\n",
            "Epoch: 16/100  (batch: 40)  train loss: 0.05292  val loss: 0.13579  one-shot acc: 0.580  elapsed time(s): 18.49\n",
            "Epoch: 16/100  (batch: 60)  train loss: 0.04914  val loss: 0.07410  one-shot acc: 0.535  elapsed time(s): 18.62\n",
            "Epoch: 17/100  (batch: 20)  train loss: 0.03992  val loss: 0.04695  one-shot acc: 0.570  elapsed time(s): 20.52\n",
            "Epoch: 17/100  (batch: 40)  train loss: 0.04580  val loss: 0.04315  one-shot acc: 0.580  elapsed time(s): 18.51\n",
            "Epoch: 17/100  (batch: 60)  train loss: 0.04185  val loss: 0.13014  one-shot acc: 0.535  elapsed time(s): 18.61\n",
            "Epoch: 18/100  (batch: 20)  train loss: 0.03899  val loss: 0.04004  one-shot acc: 0.600  elapsed time(s): 20.49\n",
            "Epoch: 18/100  (batch: 40)  train loss: 0.06098  val loss: 0.05730  one-shot acc: 0.585  elapsed time(s): 18.55\n",
            "Epoch: 18/100  (batch: 60)  train loss: 0.04626  val loss: 0.05017  one-shot acc: 0.570  elapsed time(s): 18.56\n",
            "Epoch: 19/100  (batch: 20)  train loss: 0.03886  val loss: 0.03054  one-shot acc: 0.590  elapsed time(s): 20.57\n",
            "Epoch: 19/100  (batch: 40)  train loss: 0.03939  val loss: 0.03803  one-shot acc: 0.635  elapsed time(s): 18.49\n",
            "Epoch: 19/100  (batch: 60)  train loss: 0.04093  val loss: 0.03435  one-shot acc: 0.555  elapsed time(s): 18.72\n",
            "Epoch: 20/100  (batch: 20)  train loss: 0.03805  val loss: 0.03226  one-shot acc: 0.595  elapsed time(s): 20.58\n",
            "Epoch: 20/100  (batch: 40)  train loss: 0.03437  val loss: 0.02858  one-shot acc: 0.580  elapsed time(s): 18.48\n",
            "Epoch: 20/100  (batch: 60)  train loss: 0.03459  val loss: 0.03799  one-shot acc: 0.560  elapsed time(s): 18.59\n",
            "Epoch: 21/100  (batch: 20)  train loss: 0.03092  val loss: 0.07512  one-shot acc: 0.595  elapsed time(s): 20.70\n",
            "Epoch: 21/100  (batch: 40)  train loss: 0.03278  val loss: 1.21153  one-shot acc: 0.145  elapsed time(s): 18.58\n",
            "Epoch: 21/100  (batch: 60)  train loss: 0.03102  val loss: 0.04475  one-shot acc: 0.600  elapsed time(s): 18.59\n",
            "Epoch: 22/100  (batch: 20)  train loss: 0.02645  val loss: 0.03099  one-shot acc: 0.605  elapsed time(s): 20.37\n",
            "Epoch: 22/100  (batch: 40)  train loss: 0.03848  val loss: 0.02847  one-shot acc: 0.635  elapsed time(s): 18.43\n",
            "Epoch: 22/100  (batch: 60)  train loss: 0.02544  val loss: 0.03187  one-shot acc: 0.625  elapsed time(s): 18.54\n",
            "Epoch: 23/100  (batch: 20)  train loss: 0.03002  val loss: 0.01936  one-shot acc: 0.515  elapsed time(s): 20.52\n",
            "Epoch: 23/100  (batch: 40)  train loss: 0.03090  val loss: 0.04991  one-shot acc: 0.630  elapsed time(s): 18.53\n",
            "Epoch: 23/100  (batch: 60)  train loss: 0.02774  val loss: 0.03614  one-shot acc: 0.610  elapsed time(s): 18.56\n",
            "Epoch: 24/100  (batch: 20)  train loss: 0.02750  val loss: 0.04406  one-shot acc: 0.575  elapsed time(s): 20.50\n",
            "Epoch: 24/100  (batch: 40)  train loss: 0.03400  val loss: 0.02751  one-shot acc: 0.610  elapsed time(s): 18.42\n",
            "Epoch: 24/100  (batch: 60)  train loss: 0.02372  val loss: 0.03111  one-shot acc: 0.610  elapsed time(s): 18.43\n",
            "Epoch: 25/100  (batch: 20)  train loss: 0.02246  val loss: 0.02015  one-shot acc: 0.565  elapsed time(s): 20.48\n",
            "Epoch: 25/100  (batch: 40)  train loss: 0.03297  val loss: 0.02941  one-shot acc: 0.605  elapsed time(s): 18.57\n",
            "Epoch: 25/100  (batch: 60)  train loss: 0.02811  val loss: 0.02917  one-shot acc: 0.645  elapsed time(s): 18.56\n",
            "Epoch: 26/100  (batch: 20)  train loss: 0.02910  val loss: 0.03304  one-shot acc: 0.575  elapsed time(s): 20.65\n",
            "Epoch: 26/100  (batch: 40)  train loss: 0.03429  val loss: 0.02773  one-shot acc: 0.520  elapsed time(s): 18.79\n",
            "Epoch: 26/100  (batch: 60)  train loss: 0.02778  val loss: 0.10030  one-shot acc: 0.515  elapsed time(s): 18.63\n",
            "Epoch: 27/100  (batch: 20)  train loss: 0.01938  val loss: 0.06592  one-shot acc: 0.555  elapsed time(s): 20.54\n",
            "Epoch: 27/100  (batch: 40)  train loss: 0.02003  val loss: 0.09371  one-shot acc: 0.570  elapsed time(s): 18.61\n",
            "Epoch: 27/100  (batch: 60)  train loss: 0.01903  val loss: 0.02152  one-shot acc: 0.610  elapsed time(s): 18.39\n",
            "Epoch: 28/100  (batch: 20)  train loss: 0.02031  val loss: 0.01994  one-shot acc: 0.640  elapsed time(s): 20.60\n",
            "Epoch: 28/100  (batch: 40)  train loss: 0.02681  val loss: 0.02096  one-shot acc: 0.575  elapsed time(s): 18.40\n",
            "Epoch: 28/100  (batch: 60)  train loss: 0.02525  val loss: 0.02932  one-shot acc: 0.645  elapsed time(s): 18.44\n",
            "Epoch: 29/100  (batch: 20)  train loss: 0.01952  val loss: 0.01651  one-shot acc: 0.590  elapsed time(s): 20.53\n",
            "Epoch: 29/100  (batch: 40)  train loss: 0.02149  val loss: 0.01536  one-shot acc: 0.595  elapsed time(s): 18.47\n",
            "Epoch: 29/100  (batch: 60)  train loss: 0.02598  val loss: 0.03769  one-shot acc: 0.535  elapsed time(s): 18.43\n",
            "Epoch: 30/100  (batch: 20)  train loss: 0.01573  val loss: 0.01644  one-shot acc: 0.645  elapsed time(s): 20.40\n",
            "Epoch: 30/100  (batch: 40)  train loss: 0.01806  val loss: 0.02454  one-shot acc: 0.705  elapsed time(s): 18.44\n",
            "Epoch: 30/100  (batch: 60)  train loss: 0.02456  val loss: 0.22664  one-shot acc: 0.500  elapsed time(s): 18.48\n",
            "Epoch: 31/100  (batch: 20)  train loss: 0.02316  val loss: 0.01579  one-shot acc: 0.600  elapsed time(s): 20.50\n",
            "Epoch: 31/100  (batch: 40)  train loss: 0.01816  val loss: 0.01927  one-shot acc: 0.670  elapsed time(s): 18.55\n",
            "Epoch: 31/100  (batch: 60)  train loss: 0.01548  val loss: 0.09435  one-shot acc: 0.520  elapsed time(s): 18.81\n",
            "Epoch: 32/100  (batch: 20)  train loss: 0.01944  val loss: 0.02442  one-shot acc: 0.605  elapsed time(s): 20.94\n",
            "Epoch: 32/100  (batch: 40)  train loss: 0.01820  val loss: 0.01363  one-shot acc: 0.660  elapsed time(s): 18.59\n",
            "Epoch: 32/100  (batch: 60)  train loss: 0.01693  val loss: 0.01730  one-shot acc: 0.590  elapsed time(s): 18.60\n",
            "Epoch: 33/100  (batch: 20)  train loss: 0.02033  val loss: 0.01648  one-shot acc: 0.555  elapsed time(s): 20.71\n",
            "Epoch: 33/100  (batch: 40)  train loss: 0.02594  val loss: 0.01406  one-shot acc: 0.585  elapsed time(s): 18.54\n",
            "Epoch: 33/100  (batch: 60)  train loss: 0.01952  val loss: 0.22663  one-shot acc: 0.540  elapsed time(s): 18.58\n",
            "Epoch: 34/100  (batch: 20)  train loss: 0.02095  val loss: 0.01315  one-shot acc: 0.615  elapsed time(s): 20.47\n",
            "Epoch: 34/100  (batch: 40)  train loss: 0.02002  val loss: 0.01598  one-shot acc: 0.635  elapsed time(s): 18.62\n",
            "Epoch: 34/100  (batch: 60)  train loss: 0.01773  val loss: 0.03575  one-shot acc: 0.585  elapsed time(s): 18.52\n",
            "Epoch: 35/100  (batch: 20)  train loss: 0.01782  val loss: 0.03273  one-shot acc: 0.555  elapsed time(s): 20.62\n",
            "Epoch: 35/100  (batch: 40)  train loss: 0.02355  val loss: 0.25793  one-shot acc: 0.420  elapsed time(s): 18.62\n",
            "Epoch: 35/100  (batch: 60)  train loss: 0.02118  val loss: 0.02015  one-shot acc: 0.555  elapsed time(s): 18.65\n",
            "Epoch: 36/100  (batch: 20)  train loss: 0.01928  val loss: 0.82332  one-shot acc: 0.235  elapsed time(s): 20.68\n",
            "Epoch: 36/100  (batch: 40)  train loss: 0.02075  val loss: 0.02089  one-shot acc: 0.595  elapsed time(s): 18.63\n",
            "Epoch: 36/100  (batch: 60)  train loss: 0.02248  val loss: 0.54658  one-shot acc: 0.295  elapsed time(s): 18.65\n",
            "Epoch: 37/100  (batch: 20)  train loss: 0.01964  val loss: 0.02247  one-shot acc: 0.555  elapsed time(s): 20.90\n",
            "Epoch: 37/100  (batch: 40)  train loss: 0.02529  val loss: 0.02419  one-shot acc: 0.620  elapsed time(s): 18.66\n",
            "Epoch: 37/100  (batch: 60)  train loss: 0.01904  val loss: 0.02301  one-shot acc: 0.560  elapsed time(s): 18.66\n",
            "Epoch: 38/100  (batch: 20)  train loss: 0.01790  val loss: 0.01969  one-shot acc: 0.565  elapsed time(s): 20.65\n",
            "Epoch: 38/100  (batch: 40)  train loss: 0.02102  val loss: 0.01695  one-shot acc: 0.655  elapsed time(s): 18.65\n",
            "Epoch: 38/100  (batch: 60)  train loss: 0.01510  val loss: 0.12421  one-shot acc: 0.565  elapsed time(s): 18.59\n",
            "Epoch: 39/100  (batch: 20)  train loss: 0.01268  val loss: 0.03333  one-shot acc: 0.505  elapsed time(s): 20.77\n",
            "Epoch: 39/100  (batch: 40)  train loss: 0.01903  val loss: 0.01388  one-shot acc: 0.690  elapsed time(s): 18.72\n",
            "Epoch: 39/100  (batch: 60)  train loss: 0.01816  val loss: 0.05326  one-shot acc: 0.580  elapsed time(s): 18.71\n",
            "Epoch: 40/100  (batch: 20)  train loss: 0.01673  val loss: 0.01142  one-shot acc: 0.605  elapsed time(s): 20.70\n",
            "Epoch: 40/100  (batch: 40)  train loss: 0.01882  val loss: 0.03123  one-shot acc: 0.560  elapsed time(s): 18.70\n",
            "Epoch: 40/100  (batch: 60)  train loss: 0.01470  val loss: 0.01557  one-shot acc: 0.535  elapsed time(s): 18.70\n",
            "Epoch: 41/100  (batch: 20)  train loss: 0.01112  val loss: 0.01021  one-shot acc: 0.640  elapsed time(s): 20.60\n",
            "Epoch: 41/100  (batch: 40)  train loss: 0.01470  val loss: 0.01172  one-shot acc: 0.585  elapsed time(s): 18.70\n",
            "Epoch: 41/100  (batch: 60)  train loss: 0.01739  val loss: 0.03666  one-shot acc: 0.595  elapsed time(s): 18.85\n",
            "Epoch: 42/100  (batch: 20)  train loss: 0.01364  val loss: 0.01527  one-shot acc: 0.560  elapsed time(s): 20.92\n",
            "Epoch: 42/100  (batch: 40)  train loss: 0.01722  val loss: 0.01489  one-shot acc: 0.655  elapsed time(s): 19.05\n",
            "Epoch: 42/100  (batch: 60)  train loss: 0.01388  val loss: 0.01773  one-shot acc: 0.625  elapsed time(s): 18.80\n",
            "Epoch: 43/100  (batch: 20)  train loss: 0.00956  val loss: 0.34943  one-shot acc: 0.475  elapsed time(s): 20.90\n",
            "Epoch: 43/100  (batch: 40)  train loss: 0.01757  val loss: 0.01094  one-shot acc: 0.595  elapsed time(s): 18.73\n",
            "Epoch: 43/100  (batch: 60)  train loss: 0.01111  val loss: 0.02869  one-shot acc: 0.595  elapsed time(s): 18.66\n",
            "Epoch: 44/100  (batch: 20)  train loss: 0.01439  val loss: 0.02514  one-shot acc: 0.550  elapsed time(s): 20.63\n",
            "Epoch: 44/100  (batch: 40)  train loss: 0.01359  val loss: 0.01526  one-shot acc: 0.625  elapsed time(s): 18.52\n",
            "Epoch: 44/100  (batch: 60)  train loss: 0.01092  val loss: 0.04362  one-shot acc: 0.605  elapsed time(s): 18.62\n",
            "Epoch: 45/100  (batch: 20)  train loss: 0.01259  val loss: 0.01048  one-shot acc: 0.650  elapsed time(s): 20.59\n",
            "Epoch: 45/100  (batch: 40)  train loss: 0.01066  val loss: 0.01650  one-shot acc: 0.595  elapsed time(s): 18.64\n",
            "Epoch: 45/100  (batch: 60)  train loss: 0.01073  val loss: 0.01389  one-shot acc: 0.610  elapsed time(s): 18.56\n",
            "Epoch: 46/100  (batch: 20)  train loss: 0.00731  val loss: 0.03852  one-shot acc: 0.560  elapsed time(s): 20.79\n",
            "Epoch: 46/100  (batch: 40)  train loss: 0.01107  val loss: 0.01997  one-shot acc: 0.600  elapsed time(s): 18.74\n",
            "Epoch: 46/100  (batch: 60)  train loss: 0.01018  val loss: 0.01462  one-shot acc: 0.590  elapsed time(s): 18.62\n",
            "Epoch: 47/100  (batch: 20)  train loss: 0.01466  val loss: 0.01333  one-shot acc: 0.645  elapsed time(s): 20.60\n",
            "Epoch: 47/100  (batch: 40)  train loss: 0.00944  val loss: 0.01366  one-shot acc: 0.665  elapsed time(s): 18.41\n",
            "Epoch: 47/100  (batch: 60)  train loss: 0.01665  val loss: 0.02109  one-shot acc: 0.640  elapsed time(s): 19.09\n",
            "Epoch: 48/100  (batch: 20)  train loss: 0.00941  val loss: 0.00744  one-shot acc: 0.565  elapsed time(s): 20.73\n",
            "Epoch: 48/100  (batch: 40)  train loss: 0.01292  val loss: 0.01218  one-shot acc: 0.605  elapsed time(s): 18.46\n",
            "Epoch: 48/100  (batch: 60)  train loss: 0.00735  val loss: 0.01155  one-shot acc: 0.620  elapsed time(s): 18.52\n",
            "Epoch: 49/100  (batch: 20)  train loss: 0.01164  val loss: 0.01410  one-shot acc: 0.610  elapsed time(s): 20.77\n",
            "Epoch: 49/100  (batch: 40)  train loss: 0.01200  val loss: 0.01000  one-shot acc: 0.640  elapsed time(s): 18.56\n",
            "Epoch: 49/100  (batch: 60)  train loss: 0.01154  val loss: 0.01498  one-shot acc: 0.610  elapsed time(s): 18.64\n",
            "Epoch: 50/100  (batch: 20)  train loss: 0.01103  val loss: 0.00828  one-shot acc: 0.620  elapsed time(s): 20.58\n",
            "Epoch: 50/100  (batch: 40)  train loss: 0.00991  val loss: 0.00883  one-shot acc: 0.625  elapsed time(s): 18.64\n",
            "Epoch: 50/100  (batch: 60)  train loss: 0.01236  val loss: 0.01269  one-shot acc: 0.590  elapsed time(s): 18.51\n",
            "Epoch: 51/100  (batch: 20)  train loss: 0.01087  val loss: 0.00879  one-shot acc: 0.635  elapsed time(s): 20.62\n",
            "Epoch: 51/100  (batch: 40)  train loss: 0.01018  val loss: 0.00832  one-shot acc: 0.555  elapsed time(s): 18.63\n",
            "Epoch: 51/100  (batch: 60)  train loss: 0.00947  val loss: 0.01211  one-shot acc: 0.635  elapsed time(s): 18.69\n",
            "Epoch: 52/100  (batch: 20)  train loss: 0.01021  val loss: 0.00933  one-shot acc: 0.600  elapsed time(s): 20.76\n",
            "Epoch: 52/100  (batch: 40)  train loss: 0.01621  val loss: 0.01654  one-shot acc: 0.595  elapsed time(s): 18.52\n",
            "Epoch: 52/100  (batch: 60)  train loss: 0.01576  val loss: 0.27489  one-shot acc: 0.460  elapsed time(s): 18.57\n",
            "Epoch: 53/100  (batch: 20)  train loss: 0.01183  val loss: 0.01274  one-shot acc: 0.640  elapsed time(s): 21.26\n",
            "Epoch: 53/100  (batch: 40)  train loss: 0.01969  val loss: 0.01783  one-shot acc: 0.640  elapsed time(s): 18.55\n",
            "Epoch: 53/100  (batch: 60)  train loss: 0.01121  val loss: 0.01415  one-shot acc: 0.630  elapsed time(s): 18.59\n",
            "Epoch: 54/100  (batch: 20)  train loss: 0.01276  val loss: 0.02835  one-shot acc: 0.600  elapsed time(s): 20.61\n",
            "Epoch: 54/100  (batch: 40)  train loss: 0.01816  val loss: 0.02777  one-shot acc: 0.615  elapsed time(s): 18.56\n",
            "Epoch: 54/100  (batch: 60)  train loss: 0.01863  val loss: 0.01178  one-shot acc: 0.620  elapsed time(s): 18.63\n",
            "Epoch: 55/100  (batch: 20)  train loss: 0.01141  val loss: 0.00864  one-shot acc: 0.605  elapsed time(s): 20.65\n",
            "Epoch: 55/100  (batch: 40)  train loss: 0.01240  val loss: 0.01320  one-shot acc: 0.610  elapsed time(s): 18.60\n",
            "Epoch: 55/100  (batch: 60)  train loss: 0.01406  val loss: 0.08516  one-shot acc: 0.580  elapsed time(s): 18.70\n",
            "Epoch: 56/100  (batch: 20)  train loss: 0.00974  val loss: 0.01117  one-shot acc: 0.585  elapsed time(s): 20.80\n",
            "Epoch: 56/100  (batch: 40)  train loss: 0.01649  val loss: 0.01400  one-shot acc: 0.640  elapsed time(s): 18.59\n",
            "Epoch: 56/100  (batch: 60)  train loss: 0.01249  val loss: 0.01020  one-shot acc: 0.615  elapsed time(s): 18.56\n",
            "Epoch: 57/100  (batch: 20)  train loss: 0.01208  val loss: 0.00837  one-shot acc: 0.580  elapsed time(s): 20.62\n",
            "Epoch: 57/100  (batch: 40)  train loss: 0.01104  val loss: 0.01203  one-shot acc: 0.630  elapsed time(s): 18.62\n",
            "Epoch: 57/100  (batch: 60)  train loss: 0.01155  val loss: 0.01273  one-shot acc: 0.615  elapsed time(s): 18.45\n",
            "Epoch: 58/100  (batch: 20)  train loss: 0.00902  val loss: 0.01226  one-shot acc: 0.590  elapsed time(s): 20.42\n",
            "Epoch: 58/100  (batch: 40)  train loss: 0.01143  val loss: 0.01753  one-shot acc: 0.670  elapsed time(s): 18.92\n",
            "Epoch: 58/100  (batch: 60)  train loss: 0.01642  val loss: 0.02159  one-shot acc: 0.585  elapsed time(s): 18.57\n",
            "Epoch: 59/100  (batch: 20)  train loss: 0.01010  val loss: 0.01681  one-shot acc: 0.620  elapsed time(s): 20.50\n",
            "Epoch: 59/100  (batch: 40)  train loss: 0.00993  val loss: 0.01576  one-shot acc: 0.610  elapsed time(s): 18.49\n",
            "Epoch: 59/100  (batch: 60)  train loss: 0.01744  val loss: 0.01541  one-shot acc: 0.600  elapsed time(s): 18.47\n",
            "Epoch: 60/100  (batch: 20)  train loss: 0.01043  val loss: 0.03222  one-shot acc: 0.510  elapsed time(s): 20.31\n",
            "Epoch: 60/100  (batch: 40)  train loss: 0.01729  val loss: 0.18905  one-shot acc: 0.535  elapsed time(s): 18.64\n",
            "Epoch: 60/100  (batch: 60)  train loss: 0.01140  val loss: 0.53372  one-shot acc: 0.355  elapsed time(s): 18.50\n",
            "Epoch: 61/100  (batch: 20)  train loss: 0.01503  val loss: 0.01385  one-shot acc: 0.580  elapsed time(s): 20.52\n",
            "Epoch: 61/100  (batch: 40)  train loss: 0.01625  val loss: 0.01946  one-shot acc: 0.615  elapsed time(s): 18.50\n",
            "Epoch: 61/100  (batch: 60)  train loss: 0.01037  val loss: 0.03246  one-shot acc: 0.610  elapsed time(s): 18.69\n",
            "Epoch: 62/100  (batch: 20)  train loss: 0.01092  val loss: 0.01341  one-shot acc: 0.650  elapsed time(s): 20.53\n",
            "Epoch: 62/100  (batch: 40)  train loss: 0.00933  val loss: 0.01282  one-shot acc: 0.625  elapsed time(s): 18.51\n",
            "Epoch: 62/100  (batch: 60)  train loss: 0.00735  val loss: 0.00859  one-shot acc: 0.680  elapsed time(s): 18.66\n",
            "Epoch: 63/100  (batch: 20)  train loss: 0.00789  val loss: 0.00653  one-shot acc: 0.590  elapsed time(s): 20.74\n",
            "Epoch: 63/100  (batch: 40)  train loss: 0.01232  val loss: 0.01800  one-shot acc: 0.630  elapsed time(s): 18.60\n",
            "Epoch: 63/100  (batch: 60)  train loss: 0.00988  val loss: 0.02087  one-shot acc: 0.620  elapsed time(s): 18.87\n",
            "Epoch: 64/100  (batch: 20)  train loss: 0.01371  val loss: 0.04694  one-shot acc: 0.610  elapsed time(s): 20.67\n",
            "Epoch: 64/100  (batch: 40)  train loss: 0.01213  val loss: 0.01761  one-shot acc: 0.620  elapsed time(s): 18.74\n",
            "Epoch: 64/100  (batch: 60)  train loss: 0.01684  val loss: 0.01650  one-shot acc: 0.585  elapsed time(s): 18.73\n",
            "Epoch: 65/100  (batch: 20)  train loss: 0.00857  val loss: 0.01363  one-shot acc: 0.580  elapsed time(s): 20.36\n",
            "Epoch: 65/100  (batch: 40)  train loss: 0.01191  val loss: 0.01500  one-shot acc: 0.630  elapsed time(s): 18.60\n",
            "Epoch: 65/100  (batch: 60)  train loss: 0.00889  val loss: 0.01973  one-shot acc: 0.605  elapsed time(s): 18.47\n",
            "Epoch: 66/100  (batch: 20)  train loss: 0.00866  val loss: 0.01353  one-shot acc: 0.620  elapsed time(s): 20.75\n",
            "Epoch: 66/100  (batch: 40)  train loss: 0.00868  val loss: 0.00745  one-shot acc: 0.720  elapsed time(s): 18.69\n",
            "Epoch: 66/100  (batch: 60)  train loss: 0.00804  val loss: 0.00845  one-shot acc: 0.645  elapsed time(s): 18.75\n",
            "Epoch: 67/100  (batch: 20)  train loss: 0.01032  val loss: 0.00770  one-shot acc: 0.595  elapsed time(s): 20.62\n",
            "Epoch: 67/100  (batch: 40)  train loss: 0.01003  val loss: 0.02620  one-shot acc: 0.640  elapsed time(s): 18.63\n",
            "Epoch: 67/100  (batch: 60)  train loss: 0.01167  val loss: 0.01029  one-shot acc: 0.600  elapsed time(s): 18.63\n",
            "Epoch: 68/100  (batch: 20)  train loss: 0.00832  val loss: 0.01188  one-shot acc: 0.595  elapsed time(s): 20.48\n",
            "Epoch: 68/100  (batch: 40)  train loss: 0.01393  val loss: 0.01825  one-shot acc: 0.620  elapsed time(s): 18.57\n",
            "Epoch: 68/100  (batch: 60)  train loss: 0.01323  val loss: 0.81038  one-shot acc: 0.330  elapsed time(s): 18.48\n",
            "Epoch: 69/100  (batch: 20)  train loss: 0.01592  val loss: 0.16779  one-shot acc: 0.565  elapsed time(s): 20.63\n",
            "Epoch: 69/100  (batch: 40)  train loss: 0.01861  val loss: 0.02219  one-shot acc: 0.615  elapsed time(s): 18.43\n",
            "Epoch: 69/100  (batch: 60)  train loss: 0.01119  val loss: 0.02327  one-shot acc: 0.565  elapsed time(s): 18.58\n",
            "Epoch: 70/100  (batch: 20)  train loss: 0.00761  val loss: 0.01787  one-shot acc: 0.620  elapsed time(s): 20.48\n",
            "Epoch: 70/100  (batch: 40)  train loss: 0.01119  val loss: 0.01883  one-shot acc: 0.610  elapsed time(s): 18.58\n",
            "Epoch: 70/100  (batch: 60)  train loss: 0.01043  val loss: 0.01927  one-shot acc: 0.600  elapsed time(s): 18.51\n",
            "Epoch: 71/100  (batch: 20)  train loss: 0.01169  val loss: 0.01912  one-shot acc: 0.630  elapsed time(s): 20.66\n",
            "Epoch: 71/100  (batch: 40)  train loss: 0.01169  val loss: 0.01279  one-shot acc: 0.570  elapsed time(s): 18.57\n",
            "Epoch: 71/100  (batch: 60)  train loss: 0.01090  val loss: 0.01295  one-shot acc: 0.590  elapsed time(s): 18.50\n",
            "Epoch: 72/100  (batch: 20)  train loss: 0.01510  val loss: 0.01299  one-shot acc: 0.620  elapsed time(s): 20.52\n",
            "Epoch: 72/100  (batch: 40)  train loss: 0.01052  val loss: 0.02153  one-shot acc: 0.640  elapsed time(s): 18.58\n",
            "Epoch: 72/100  (batch: 60)  train loss: 0.01936  val loss: 0.01534  one-shot acc: 0.625  elapsed time(s): 18.75\n",
            "Epoch: 73/100  (batch: 20)  train loss: 0.01016  val loss: 0.01695  one-shot acc: 0.530  elapsed time(s): 20.46\n",
            "Epoch: 73/100  (batch: 40)  train loss: 0.01294  val loss: 0.02082  one-shot acc: 0.635  elapsed time(s): 18.47\n",
            "Epoch: 73/100  (batch: 60)  train loss: 0.01558  val loss: 0.00958  one-shot acc: 0.635  elapsed time(s): 18.59\n",
            "Epoch: 74/100  (batch: 20)  train loss: 0.01156  val loss: 0.01036  one-shot acc: 0.530  elapsed time(s): 20.65\n",
            "Epoch: 74/100  (batch: 40)  train loss: 0.01431  val loss: 0.01306  one-shot acc: 0.615  elapsed time(s): 18.69\n",
            "Epoch: 74/100  (batch: 60)  train loss: 0.01383  val loss: 0.01980  one-shot acc: 0.665  elapsed time(s): 18.69\n",
            "Epoch: 75/100  (batch: 20)  train loss: 0.01243  val loss: 0.01666  one-shot acc: 0.620  elapsed time(s): 20.67\n",
            "Epoch: 75/100  (batch: 40)  train loss: 0.01441  val loss: 0.01492  one-shot acc: 0.635  elapsed time(s): 18.52\n",
            "Epoch: 75/100  (batch: 60)  train loss: 0.01317  val loss: 0.23613  one-shot acc: 0.445  elapsed time(s): 18.64\n",
            "Epoch: 76/100  (batch: 20)  train loss: 0.01126  val loss: 0.01014  one-shot acc: 0.575  elapsed time(s): 20.62\n",
            "Epoch: 76/100  (batch: 40)  train loss: 0.01434  val loss: 0.17776  one-shot acc: 0.585  elapsed time(s): 18.54\n",
            "Epoch: 76/100  (batch: 60)  train loss: 0.01702  val loss: 0.02215  one-shot acc: 0.565  elapsed time(s): 18.72\n",
            "Epoch: 77/100  (batch: 20)  train loss: 0.01519  val loss: 0.03390  one-shot acc: 0.570  elapsed time(s): 20.86\n",
            "Epoch: 77/100  (batch: 40)  train loss: 0.01015  val loss: 0.02004  one-shot acc: 0.605  elapsed time(s): 18.62\n",
            "Epoch: 77/100  (batch: 60)  train loss: 0.01202  val loss: 0.01375  one-shot acc: 0.645  elapsed time(s): 18.49\n",
            "Epoch: 78/100  (batch: 20)  train loss: 0.01124  val loss: 0.01920  one-shot acc: 0.565  elapsed time(s): 20.46\n",
            "Epoch: 78/100  (batch: 40)  train loss: 0.00689  val loss: 0.00779  one-shot acc: 0.615  elapsed time(s): 18.56\n",
            "Epoch: 78/100  (batch: 60)  train loss: 0.01203  val loss: 0.01717  one-shot acc: 0.550  elapsed time(s): 18.60\n",
            "Epoch: 79/100  (batch: 20)  train loss: 0.00742  val loss: 0.01674  one-shot acc: 0.620  elapsed time(s): 20.46\n",
            "Epoch: 79/100  (batch: 40)  train loss: 0.00842  val loss: 0.01283  one-shot acc: 0.565  elapsed time(s): 18.52\n",
            "Epoch: 79/100  (batch: 60)  train loss: 0.00692  val loss: 0.01038  one-shot acc: 0.640  elapsed time(s): 18.63\n",
            "Epoch: 80/100  (batch: 20)  train loss: 0.00754  val loss: 0.01274  one-shot acc: 0.610  elapsed time(s): 20.85\n",
            "Epoch: 80/100  (batch: 40)  train loss: 0.01512  val loss: 0.01190  one-shot acc: 0.600  elapsed time(s): 18.43\n",
            "Epoch: 80/100  (batch: 60)  train loss: 0.00985  val loss: 0.00685  one-shot acc: 0.590  elapsed time(s): 18.42\n",
            "Epoch: 81/100  (batch: 20)  train loss: 0.01027  val loss: 0.00540  one-shot acc: 0.615  elapsed time(s): 20.52\n",
            "Epoch: 81/100  (batch: 40)  train loss: 0.00747  val loss: 0.00844  one-shot acc: 0.665  elapsed time(s): 18.54\n",
            "Epoch: 81/100  (batch: 60)  train loss: 0.00927  val loss: 0.00424  one-shot acc: 0.690  elapsed time(s): 18.47\n",
            "Epoch: 82/100  (batch: 20)  train loss: 0.00656  val loss: 0.00824  one-shot acc: 0.595  elapsed time(s): 20.40\n",
            "Epoch: 82/100  (batch: 40)  train loss: 0.01312  val loss: 0.00796  one-shot acc: 0.655  elapsed time(s): 18.56\n",
            "Epoch: 82/100  (batch: 60)  train loss: 0.00484  val loss: 0.00463  one-shot acc: 0.650  elapsed time(s): 18.51\n",
            "Epoch: 83/100  (batch: 20)  train loss: 0.00575  val loss: 0.01148  one-shot acc: 0.595  elapsed time(s): 20.55\n",
            "Epoch: 83/100  (batch: 40)  train loss: 0.00611  val loss: 0.00618  one-shot acc: 0.675  elapsed time(s): 18.56\n",
            "Epoch: 83/100  (batch: 60)  train loss: 0.00692  val loss: 0.00496  one-shot acc: 0.600  elapsed time(s): 18.77\n",
            "Epoch: 84/100  (batch: 20)  train loss: 0.00928  val loss: 0.01200  one-shot acc: 0.625  elapsed time(s): 20.65\n",
            "Epoch: 84/100  (batch: 40)  train loss: 0.00689  val loss: 0.01167  one-shot acc: 0.560  elapsed time(s): 18.69\n",
            "Epoch: 84/100  (batch: 60)  train loss: 0.00632  val loss: 0.00713  one-shot acc: 0.605  elapsed time(s): 18.70\n",
            "Epoch: 85/100  (batch: 20)  train loss: 0.00557  val loss: 0.01298  one-shot acc: 0.630  elapsed time(s): 20.64\n",
            "Epoch: 85/100  (batch: 40)  train loss: 0.00697  val loss: 0.22278  one-shot acc: 0.620  elapsed time(s): 19.78\n",
            "Epoch: 85/100  (batch: 60)  train loss: 0.00681  val loss: 0.65151  one-shot acc: 0.525  elapsed time(s): 18.68\n",
            "Epoch: 86/100  (batch: 20)  train loss: 0.00844  val loss: 0.00558  one-shot acc: 0.620  elapsed time(s): 20.71\n",
            "Epoch: 86/100  (batch: 40)  train loss: 0.00839  val loss: 0.01026  one-shot acc: 0.625  elapsed time(s): 18.80\n",
            "Epoch: 86/100  (batch: 60)  train loss: 0.00390  val loss: 0.01338  one-shot acc: 0.610  elapsed time(s): 18.70\n",
            "Epoch: 87/100  (batch: 20)  train loss: 0.01166  val loss: 0.00442  one-shot acc: 0.570  elapsed time(s): 20.84\n",
            "Epoch: 87/100  (batch: 40)  train loss: 0.00815  val loss: 0.01579  one-shot acc: 0.615  elapsed time(s): 18.54\n",
            "Epoch: 87/100  (batch: 60)  train loss: 0.00599  val loss: 0.01616  one-shot acc: 0.650  elapsed time(s): 18.72\n",
            "Epoch: 88/100  (batch: 20)  train loss: 0.00944  val loss: 0.00425  one-shot acc: 0.620  elapsed time(s): 20.91\n",
            "Epoch: 88/100  (batch: 40)  train loss: 0.00488  val loss: 0.00462  one-shot acc: 0.620  elapsed time(s): 18.89\n",
            "Epoch: 88/100  (batch: 60)  train loss: 0.00316  val loss: 0.00400  one-shot acc: 0.705  elapsed time(s): 18.86\n",
            "Epoch: 89/100  (batch: 20)  train loss: 0.00519  val loss: 0.01571  one-shot acc: 0.560  elapsed time(s): 20.90\n",
            "Epoch: 89/100  (batch: 40)  train loss: 0.00726  val loss: 0.00918  one-shot acc: 0.650  elapsed time(s): 19.10\n",
            "Epoch: 89/100  (batch: 60)  train loss: 0.01070  val loss: 0.01475  one-shot acc: 0.595  elapsed time(s): 18.88\n",
            "Epoch: 90/100  (batch: 20)  train loss: 0.00482  val loss: 0.01078  one-shot acc: 0.595  elapsed time(s): 21.20\n",
            "Epoch: 90/100  (batch: 40)  train loss: 0.00511  val loss: 0.01149  one-shot acc: 0.675  elapsed time(s): 18.91\n",
            "Epoch: 90/100  (batch: 60)  train loss: 0.00549  val loss: 0.00384  one-shot acc: 0.585  elapsed time(s): 19.21\n",
            "Epoch: 91/100  (batch: 20)  train loss: 0.00721  val loss: 0.00690  one-shot acc: 0.600  elapsed time(s): 21.09\n",
            "Epoch: 91/100  (batch: 40)  train loss: 0.00498  val loss: 0.01648  one-shot acc: 0.670  elapsed time(s): 18.93\n",
            "Epoch: 91/100  (batch: 60)  train loss: 0.00802  val loss: 0.00569  one-shot acc: 0.605  elapsed time(s): 18.96\n",
            "Epoch: 92/100  (batch: 20)  train loss: 0.00959  val loss: 0.00671  one-shot acc: 0.610  elapsed time(s): 21.12\n",
            "Epoch: 92/100  (batch: 40)  train loss: 0.00740  val loss: 0.00774  one-shot acc: 0.575  elapsed time(s): 18.88\n",
            "Epoch: 92/100  (batch: 60)  train loss: 0.00895  val loss: 0.01907  one-shot acc: 0.560  elapsed time(s): 18.93\n",
            "Epoch: 93/100  (batch: 20)  train loss: 0.00607  val loss: 0.00749  one-shot acc: 0.575  elapsed time(s): 21.02\n",
            "Epoch: 93/100  (batch: 40)  train loss: 0.00700  val loss: 0.02983  one-shot acc: 0.680  elapsed time(s): 19.01\n",
            "Epoch: 93/100  (batch: 60)  train loss: 0.00877  val loss: 0.01203  one-shot acc: 0.630  elapsed time(s): 18.88\n",
            "Epoch: 94/100  (batch: 20)  train loss: 0.00694  val loss: 0.26839  one-shot acc: 0.505  elapsed time(s): 20.98\n",
            "Epoch: 94/100  (batch: 40)  train loss: 0.01184  val loss: 0.02098  one-shot acc: 0.615  elapsed time(s): 19.01\n",
            "Epoch: 94/100  (batch: 60)  train loss: 0.00926  val loss: 0.01600  one-shot acc: 0.640  elapsed time(s): 18.92\n",
            "Epoch: 95/100  (batch: 20)  train loss: 0.01139  val loss: 0.00866  one-shot acc: 0.615  elapsed time(s): 20.99\n",
            "Epoch: 95/100  (batch: 40)  train loss: 0.01451  val loss: 0.01001  one-shot acc: 0.560  elapsed time(s): 18.96\n",
            "Epoch: 95/100  (batch: 60)  train loss: 0.01209  val loss: 0.01384  one-shot acc: 0.650  elapsed time(s): 18.89\n",
            "Epoch: 96/100  (batch: 20)  train loss: 0.01489  val loss: 0.01869  one-shot acc: 0.620  elapsed time(s): 21.08\n",
            "Epoch: 96/100  (batch: 40)  train loss: 0.01478  val loss: 0.01477  one-shot acc: 0.505  elapsed time(s): 18.92\n",
            "Epoch: 96/100  (batch: 60)  train loss: 0.00987  val loss: 0.00556  one-shot acc: 0.570  elapsed time(s): 18.92\n",
            "Epoch: 97/100  (batch: 20)  train loss: 0.00928  val loss: 0.01337  one-shot acc: 0.580  elapsed time(s): 20.93\n",
            "Epoch: 97/100  (batch: 40)  train loss: 0.01301  val loss: 0.01083  one-shot acc: 0.615  elapsed time(s): 18.87\n",
            "Epoch: 97/100  (batch: 60)  train loss: 0.01170  val loss: 0.01655  one-shot acc: 0.645  elapsed time(s): 18.83\n",
            "Epoch: 98/100  (batch: 20)  train loss: 0.01268  val loss: 0.00840  one-shot acc: 0.570  elapsed time(s): 20.96\n",
            "Epoch: 98/100  (batch: 40)  train loss: 0.00841  val loss: 0.00934  one-shot acc: 0.665  elapsed time(s): 18.81\n",
            "Epoch: 98/100  (batch: 60)  train loss: 0.00731  val loss: 0.01558  one-shot acc: 0.545  elapsed time(s): 18.95\n",
            "Epoch: 99/100  (batch: 20)  train loss: 0.00720  val loss: 0.01358  one-shot acc: 0.565  elapsed time(s): 21.12\n",
            "Epoch: 99/100  (batch: 40)  train loss: 0.00872  val loss: 0.00795  one-shot acc: 0.590  elapsed time(s): 18.78\n",
            "Epoch: 99/100  (batch: 60)  train loss: 0.01140  val loss: 0.02036  one-shot acc: 0.625  elapsed time(s): 18.89\n",
            "Epoch: 100/100  (batch: 20)  train loss: 0.00827  val loss: 0.00814  one-shot acc: 0.605  elapsed time(s): 20.69\n",
            "Epoch: 100/100  (batch: 40)  train loss: 0.00723  val loss: 0.00541  one-shot acc: 0.625  elapsed time(s): 18.99\n",
            "Epoch: 100/100  (batch: 60)  train loss: 0.00433  val loss: 0.00788  one-shot acc: 0.600  elapsed time(s): 18.76\n"
          ],
          "name": "stdout"
        }
      ]
    },
    {
      "cell_type": "code",
      "metadata": {
        "id": "q2g2e1mRAupm",
        "colab_type": "code",
        "colab": {}
      },
      "source": [
        ""
      ],
      "execution_count": null,
      "outputs": []
    },
    {
      "cell_type": "code",
      "metadata": {
        "colab_type": "code",
        "id": "qC9Lzm9wAyNw",
        "colab": {
          "base_uri": "https://localhost:8080/",
          "height": 312
        },
        "outputId": "41e4b1b9-3565-4e30-a9d2-50d1d41e0a54"
      },
      "source": [
        "plt.plot(loss_dict[\"train_losses\"])\n",
        "plt.plot(loss_dict[\"valid_losses\"])\n",
        "plt.title(\"Loss vs. Training Step\")\n",
        "plt.xlabel(\"training step\")\n",
        "plt.ylabel(\"loss\")\n",
        "plt.legend([\"training loss\", \"valid loss\"])\n",
        "plt.show()"
      ],
      "execution_count": null,
      "outputs": [
        {
          "output_type": "display_data",
          "data": {
            "image/png": "[encoded data removed]",
            "text/plain": [
              "<Figure size 432x288 with 1 Axes>"
            ]
          },
          "metadata": {
            "tags": [],
            "needs_background": "light"
          }
        },
        {
          "output_type": "display_data",
          "data": {
            "text/plain": [
              "<Figure size 1440x1440 with 0 Axes>"
            ]
          },
          "metadata": {
            "tags": []
          }
        }
      ]
    },
    {
      "cell_type": "code",
      "metadata": {
        "colab_type": "code",
        "id": "F7Q_E8fMA41k",
        "colab": {
          "base_uri": "https://localhost:8080/",
          "height": 295
        },
        "outputId": "9e859c3a-6556-45dc-eb9d-44d7279bf0da"
      },
      "source": [
        "plt.plot(loss_dict[\"test_accs\"])\n",
        "plt.title(\"One-shot Test Accuracy vs. Training Step\")\n",
        "plt.xlabel(\"training step\")\n",
        "plt.ylabel(\"one-shot accuracy\")\n",
        "plt.show()"
      ],
      "execution_count": null,
      "outputs": [
        {
          "output_type": "display_data",
          "data": {
            "image/png": "[encoded data removed]",
            "text/plain": [
              "<Figure size 432x288 with 1 Axes>"
            ]
          },
          "metadata": {
            "tags": [],
            "needs_background": "light"
          }
        }
      ]
    },
    {
      "cell_type": "markdown",
      "metadata": {
        "id": "D80Ggh-nA-Q-",
        "colab_type": "text"
      },
      "source": [
        "Highest one-shot test accuracy of 72% was achieved, although the accuracies near the last half of the training stage (last 50 epochs) jumped between accuracy of 50s and 60s.\n",
        "\n",
        "Let's try reducing learnig rate to 0.00006 and train again from scratch."
      ]
    },
    {
      "cell_type": "code",
      "metadata": {
        "id": "tc5bjdsev1F9",
        "colab_type": "code",
        "colab": {
          "base_uri": "https://localhost:8080/",
          "height": 1000
        },
        "outputId": "09cfefab-e844-4b8c-eb8b-d38d77dbe3b2"
      },
      "source": [
        "model = SiameseNet()\n",
        "model = model.to(device)\n",
        "optimizer = optim.Adam(model.parameters(), lr=0.00006)\n",
        "loss_dict2 = train(model, criterion, optimizer, n_epochs=150, n_test=300)"
      ],
      "execution_count": 36,
      "outputs": [
        {
          "output_type": "stream",
          "text": [
            "Epoch: 1/150  (batch: 20)  train loss: 0.61554  val loss: 0.64480  one-shot acc: 0.143  elapsed time(s): 26.62\n",
            "Epoch: 1/150  (batch: 40)  train loss: 0.52537  val loss: 0.48581  one-shot acc: 0.260  elapsed time(s): 25.16\n",
            "Epoch: 1/150  (batch: 60)  train loss: 0.48492  val loss: 0.44110  one-shot acc: 0.270  elapsed time(s): 25.11\n",
            "Epoch: 2/150  (batch: 20)  train loss: 0.43634  val loss: 0.40388  one-shot acc: 0.280  elapsed time(s): 27.29\n",
            "Epoch: 2/150  (batch: 40)  train loss: 0.44196  val loss: 0.42820  one-shot acc: 0.317  elapsed time(s): 25.19\n",
            "Epoch: 2/150  (batch: 60)  train loss: 0.40987  val loss: 0.39534  one-shot acc: 0.347  elapsed time(s): 25.16\n",
            "Epoch: 3/150  (batch: 20)  train loss: 0.38335  val loss: 0.34463  one-shot acc: 0.293  elapsed time(s): 27.32\n",
            "Epoch: 3/150  (batch: 40)  train loss: 0.37985  val loss: 0.33780  one-shot acc: 0.387  elapsed time(s): 25.24\n",
            "Epoch: 3/150  (batch: 60)  train loss: 0.35953  val loss: 0.34487  one-shot acc: 0.407  elapsed time(s): 25.21\n",
            "Epoch: 4/150  (batch: 20)  train loss: 0.32080  val loss: 0.28796  one-shot acc: 0.390  elapsed time(s): 27.09\n",
            "Epoch: 4/150  (batch: 40)  train loss: 0.32781  val loss: 0.28591  one-shot acc: 0.490  elapsed time(s): 25.37\n",
            "Epoch: 4/150  (batch: 60)  train loss: 0.29429  val loss: 0.27392  one-shot acc: 0.440  elapsed time(s): 25.32\n",
            "Epoch: 5/150  (batch: 20)  train loss: 0.27539  val loss: 0.25560  one-shot acc: 0.537  elapsed time(s): 27.26\n",
            "Epoch: 5/150  (batch: 40)  train loss: 0.27353  val loss: 0.25666  one-shot acc: 0.480  elapsed time(s): 25.10\n",
            "Epoch: 5/150  (batch: 60)  train loss: 0.25914  val loss: 0.24744  one-shot acc: 0.447  elapsed time(s): 25.09\n",
            "Epoch: 6/150  (batch: 20)  train loss: 0.23353  val loss: 0.21645  one-shot acc: 0.503  elapsed time(s): 27.21\n",
            "Epoch: 6/150  (batch: 40)  train loss: 0.23250  val loss: 0.24423  one-shot acc: 0.477  elapsed time(s): 25.19\n",
            "Epoch: 6/150  (batch: 60)  train loss: 0.22451  val loss: 0.20651  one-shot acc: 0.490  elapsed time(s): 25.13\n",
            "Epoch: 7/150  (batch: 20)  train loss: 0.21835  val loss: 0.20085  one-shot acc: 0.467  elapsed time(s): 27.18\n",
            "Epoch: 7/150  (batch: 40)  train loss: 0.20726  val loss: 0.21647  one-shot acc: 0.503  elapsed time(s): 25.13\n",
            "Epoch: 7/150  (batch: 60)  train loss: 0.20584  val loss: 0.20540  one-shot acc: 0.457  elapsed time(s): 25.06\n",
            "Epoch: 8/150  (batch: 20)  train loss: 0.18873  val loss: 0.17676  one-shot acc: 0.550  elapsed time(s): 27.29\n",
            "Epoch: 8/150  (batch: 40)  train loss: 0.18167  val loss: 0.18229  one-shot acc: 0.523  elapsed time(s): 25.40\n",
            "Epoch: 8/150  (batch: 60)  train loss: 0.17526  val loss: 0.17167  one-shot acc: 0.540  elapsed time(s): 25.03\n",
            "Epoch: 9/150  (batch: 20)  train loss: 0.18282  val loss: 0.16933  one-shot acc: 0.567  elapsed time(s): 27.33\n",
            "Epoch: 9/150  (batch: 40)  train loss: 0.17542  val loss: 0.15825  one-shot acc: 0.573  elapsed time(s): 25.10\n",
            "Epoch: 9/150  (batch: 60)  train loss: 0.16167  val loss: 0.16933  one-shot acc: 0.560  elapsed time(s): 25.09\n",
            "Epoch: 10/150  (batch: 20)  train loss: 0.15721  val loss: 0.14132  one-shot acc: 0.523  elapsed time(s): 27.05\n",
            "Epoch: 10/150  (batch: 40)  train loss: 0.15791  val loss: 0.14721  one-shot acc: 0.557  elapsed time(s): 24.96\n",
            "Epoch: 10/150  (batch: 60)  train loss: 0.14735  val loss: 0.14236  one-shot acc: 0.523  elapsed time(s): 25.07\n",
            "Epoch: 11/150  (batch: 20)  train loss: 0.13922  val loss: 0.13502  one-shot acc: 0.517  elapsed time(s): 27.06\n",
            "Epoch: 11/150  (batch: 40)  train loss: 0.14546  val loss: 0.13396  one-shot acc: 0.540  elapsed time(s): 24.89\n",
            "Epoch: 11/150  (batch: 60)  train loss: 0.13481  val loss: 0.14340  one-shot acc: 0.587  elapsed time(s): 25.14\n",
            "Epoch: 12/150  (batch: 20)  train loss: 0.12030  val loss: 0.12030  one-shot acc: 0.550  elapsed time(s): 27.25\n",
            "Epoch: 12/150  (batch: 40)  train loss: 0.11852  val loss: 0.13023  one-shot acc: 0.590  elapsed time(s): 25.37\n",
            "Epoch: 12/150  (batch: 60)  train loss: 0.12639  val loss: 0.11351  one-shot acc: 0.577  elapsed time(s): 25.11\n",
            "Epoch: 13/150  (batch: 20)  train loss: 0.12002  val loss: 0.10566  one-shot acc: 0.553  elapsed time(s): 26.98\n",
            "Epoch: 13/150  (batch: 40)  train loss: 0.12035  val loss: 0.11154  one-shot acc: 0.650  elapsed time(s): 25.10\n",
            "Epoch: 13/150  (batch: 60)  train loss: 0.11285  val loss: 0.10120  one-shot acc: 0.593  elapsed time(s): 25.17\n",
            "Epoch: 14/150  (batch: 20)  train loss: 0.10357  val loss: 0.09102  one-shot acc: 0.613  elapsed time(s): 27.10\n",
            "Epoch: 14/150  (batch: 40)  train loss: 0.10063  val loss: 0.10465  one-shot acc: 0.610  elapsed time(s): 25.04\n",
            "Epoch: 14/150  (batch: 60)  train loss: 0.10461  val loss: 0.09861  one-shot acc: 0.640  elapsed time(s): 25.16\n",
            "Epoch: 15/150  (batch: 20)  train loss: 0.08769  val loss: 0.08886  one-shot acc: 0.633  elapsed time(s): 27.29\n",
            "Epoch: 15/150  (batch: 40)  train loss: 0.10014  val loss: 0.08780  one-shot acc: 0.593  elapsed time(s): 24.99\n",
            "Epoch: 15/150  (batch: 60)  train loss: 0.09317  val loss: 0.08379  one-shot acc: 0.580  elapsed time(s): 25.10\n",
            "Epoch: 16/150  (batch: 20)  train loss: 0.08431  val loss: 0.07888  one-shot acc: 0.580  elapsed time(s): 27.01\n",
            "Epoch: 16/150  (batch: 40)  train loss: 0.09882  val loss: 0.08273  one-shot acc: 0.643  elapsed time(s): 25.38\n",
            "Epoch: 16/150  (batch: 60)  train loss: 0.08483  val loss: 0.08883  one-shot acc: 0.590  elapsed time(s): 24.99\n",
            "Epoch: 17/150  (batch: 20)  train loss: 0.08646  val loss: 0.07563  one-shot acc: 0.600  elapsed time(s): 26.94\n",
            "Epoch: 17/150  (batch: 40)  train loss: 0.08244  val loss: 0.08502  one-shot acc: 0.627  elapsed time(s): 25.03\n",
            "Epoch: 17/150  (batch: 60)  train loss: 0.07738  val loss: 0.08712  one-shot acc: 0.657  elapsed time(s): 24.94\n",
            "Epoch: 18/150  (batch: 20)  train loss: 0.07995  val loss: 0.06708  one-shot acc: 0.610  elapsed time(s): 26.94\n",
            "Epoch: 18/150  (batch: 40)  train loss: 0.07762  val loss: 0.06597  one-shot acc: 0.600  elapsed time(s): 24.96\n",
            "Epoch: 18/150  (batch: 60)  train loss: 0.06904  val loss: 0.06896  one-shot acc: 0.600  elapsed time(s): 25.01\n",
            "Epoch: 19/150  (batch: 20)  train loss: 0.08366  val loss: 0.05566  one-shot acc: 0.653  elapsed time(s): 27.06\n",
            "Epoch: 19/150  (batch: 40)  train loss: 0.07119  val loss: 0.05559  one-shot acc: 0.643  elapsed time(s): 24.99\n",
            "Epoch: 19/150  (batch: 60)  train loss: 0.06915  val loss: 0.05854  one-shot acc: 0.643  elapsed time(s): 24.98\n",
            "Epoch: 20/150  (batch: 20)  train loss: 0.06144  val loss: 0.05542  one-shot acc: 0.607  elapsed time(s): 27.16\n",
            "Epoch: 20/150  (batch: 40)  train loss: 0.06655  val loss: 0.05411  one-shot acc: 0.660  elapsed time(s): 25.43\n",
            "Epoch: 20/150  (batch: 60)  train loss: 0.06716  val loss: 0.06085  one-shot acc: 0.687  elapsed time(s): 25.20\n",
            "Epoch: 21/150  (batch: 20)  train loss: 0.05080  val loss: 0.05455  one-shot acc: 0.640  elapsed time(s): 27.13\n",
            "Epoch: 21/150  (batch: 40)  train loss: 0.05910  val loss: 0.05169  one-shot acc: 0.650  elapsed time(s): 25.55\n",
            "Epoch: 21/150  (batch: 60)  train loss: 0.05655  val loss: 0.07027  one-shot acc: 0.670  elapsed time(s): 25.52\n",
            "Epoch: 22/150  (batch: 20)  train loss: 0.04787  val loss: 0.04639  one-shot acc: 0.640  elapsed time(s): 27.42\n",
            "Epoch: 22/150  (batch: 40)  train loss: 0.05705  val loss: 0.05090  one-shot acc: 0.637  elapsed time(s): 25.24\n",
            "Epoch: 22/150  (batch: 60)  train loss: 0.06094  val loss: 0.05398  one-shot acc: 0.667  elapsed time(s): 25.22\n",
            "Epoch: 23/150  (batch: 20)  train loss: 0.04876  val loss: 0.03839  one-shot acc: 0.597  elapsed time(s): 27.31\n",
            "Epoch: 23/150  (batch: 40)  train loss: 0.05892  val loss: 0.04060  one-shot acc: 0.630  elapsed time(s): 25.24\n",
            "Epoch: 23/150  (batch: 60)  train loss: 0.05376  val loss: 0.04482  one-shot acc: 0.663  elapsed time(s): 25.28\n",
            "Epoch: 24/150  (batch: 20)  train loss: 0.05117  val loss: 0.05022  one-shot acc: 0.597  elapsed time(s): 27.23\n",
            "Epoch: 24/150  (batch: 40)  train loss: 0.05651  val loss: 0.04915  one-shot acc: 0.660  elapsed time(s): 25.93\n",
            "Epoch: 24/150  (batch: 60)  train loss: 0.04906  val loss: 0.04483  one-shot acc: 0.657  elapsed time(s): 25.53\n",
            "Epoch: 25/150  (batch: 20)  train loss: 0.04646  val loss: 0.03601  one-shot acc: 0.683  elapsed time(s): 27.60\n",
            "Epoch: 25/150  (batch: 40)  train loss: 0.05497  val loss: 0.04724  one-shot acc: 0.680  elapsed time(s): 25.44\n",
            "Epoch: 25/150  (batch: 60)  train loss: 0.04794  val loss: 0.04353  one-shot acc: 0.647  elapsed time(s): 25.49\n",
            "Epoch: 26/150  (batch: 20)  train loss: 0.04229  val loss: 0.04043  one-shot acc: 0.653  elapsed time(s): 27.60\n",
            "Epoch: 26/150  (batch: 40)  train loss: 0.04486  val loss: 0.04052  one-shot acc: 0.647  elapsed time(s): 25.60\n",
            "Epoch: 26/150  (batch: 60)  train loss: 0.04623  val loss: 0.04262  one-shot acc: 0.643  elapsed time(s): 25.60\n",
            "Epoch: 27/150  (batch: 20)  train loss: 0.03692  val loss: 0.02856  one-shot acc: 0.613  elapsed time(s): 27.56\n",
            "Epoch: 27/150  (batch: 40)  train loss: 0.04233  val loss: 0.03360  one-shot acc: 0.660  elapsed time(s): 25.29\n",
            "Epoch: 27/150  (batch: 60)  train loss: 0.03243  val loss: 0.03242  one-shot acc: 0.680  elapsed time(s): 25.46\n",
            "Epoch: 28/150  (batch: 20)  train loss: 0.03708  val loss: 0.03183  one-shot acc: 0.677  elapsed time(s): 27.54\n",
            "Epoch: 28/150  (batch: 40)  train loss: 0.03842  val loss: 0.03002  one-shot acc: 0.693  elapsed time(s): 25.76\n",
            "Epoch: 28/150  (batch: 60)  train loss: 0.03726  val loss: 0.03714  one-shot acc: 0.640  elapsed time(s): 25.50\n",
            "Epoch: 29/150  (batch: 20)  train loss: 0.03428  val loss: 0.02651  one-shot acc: 0.670  elapsed time(s): 27.48\n",
            "Epoch: 29/150  (batch: 40)  train loss: 0.03103  val loss: 0.03172  one-shot acc: 0.663  elapsed time(s): 25.26\n",
            "Epoch: 29/150  (batch: 60)  train loss: 0.03590  val loss: 0.03099  one-shot acc: 0.653  elapsed time(s): 25.40\n",
            "Epoch: 30/150  (batch: 20)  train loss: 0.03062  val loss: 0.02580  one-shot acc: 0.620  elapsed time(s): 27.31\n",
            "Epoch: 30/150  (batch: 40)  train loss: 0.03343  val loss: 0.02460  one-shot acc: 0.667  elapsed time(s): 25.57\n",
            "Epoch: 30/150  (batch: 60)  train loss: 0.02785  val loss: 0.02804  one-shot acc: 0.667  elapsed time(s): 25.47\n",
            "Epoch: 31/150  (batch: 20)  train loss: 0.02713  val loss: 0.02845  one-shot acc: 0.683  elapsed time(s): 27.44\n",
            "Epoch: 31/150  (batch: 40)  train loss: 0.03312  val loss: 0.02857  one-shot acc: 0.677  elapsed time(s): 25.37\n",
            "Epoch: 31/150  (batch: 60)  train loss: 0.02549  val loss: 0.02715  one-shot acc: 0.703  elapsed time(s): 25.33\n",
            "Epoch: 32/150  (batch: 20)  train loss: 0.02755  val loss: 0.02209  one-shot acc: 0.630  elapsed time(s): 27.53\n",
            "Epoch: 32/150  (batch: 40)  train loss: 0.03239  val loss: 0.02249  one-shot acc: 0.690  elapsed time(s): 26.18\n",
            "Epoch: 32/150  (batch: 60)  train loss: 0.02650  val loss: 0.03021  one-shot acc: 0.650  elapsed time(s): 25.33\n",
            "Epoch: 33/150  (batch: 20)  train loss: 0.02627  val loss: 0.02408  one-shot acc: 0.680  elapsed time(s): 27.23\n",
            "Epoch: 33/150  (batch: 40)  train loss: 0.02661  val loss: 0.02601  one-shot acc: 0.713  elapsed time(s): 25.23\n",
            "Epoch: 33/150  (batch: 60)  train loss: 0.02692  val loss: 0.02456  one-shot acc: 0.730  elapsed time(s): 25.30\n",
            "Epoch: 34/150  (batch: 20)  train loss: 0.02467  val loss: 0.02172  one-shot acc: 0.690  elapsed time(s): 27.45\n",
            "Epoch: 34/150  (batch: 40)  train loss: 0.03071  val loss: 0.02514  one-shot acc: 0.663  elapsed time(s): 25.13\n",
            "Epoch: 34/150  (batch: 60)  train loss: 0.02391  val loss: 0.02262  one-shot acc: 0.710  elapsed time(s): 25.21\n",
            "Epoch: 35/150  (batch: 20)  train loss: 0.02349  val loss: 0.01952  one-shot acc: 0.680  elapsed time(s): 27.26\n",
            "Epoch: 35/150  (batch: 40)  train loss: 0.02787  val loss: 0.02023  one-shot acc: 0.637  elapsed time(s): 25.14\n",
            "Epoch: 35/150  (batch: 60)  train loss: 0.02665  val loss: 0.02027  one-shot acc: 0.710  elapsed time(s): 25.46\n",
            "Epoch: 36/150  (batch: 20)  train loss: 0.02048  val loss: 0.01544  one-shot acc: 0.663  elapsed time(s): 27.25\n",
            "Epoch: 36/150  (batch: 40)  train loss: 0.02653  val loss: 0.02295  one-shot acc: 0.697  elapsed time(s): 25.49\n",
            "Epoch: 36/150  (batch: 60)  train loss: 0.02213  val loss: 0.01902  one-shot acc: 0.713  elapsed time(s): 25.13\n",
            "Epoch: 37/150  (batch: 20)  train loss: 0.02197  val loss: 0.01634  one-shot acc: 0.690  elapsed time(s): 27.19\n",
            "Epoch: 37/150  (batch: 40)  train loss: 0.02250  val loss: 0.02006  one-shot acc: 0.660  elapsed time(s): 25.31\n",
            "Epoch: 37/150  (batch: 60)  train loss: 0.02521  val loss: 0.01794  one-shot acc: 0.693  elapsed time(s): 25.33\n",
            "Epoch: 38/150  (batch: 20)  train loss: 0.01957  val loss: 0.02181  one-shot acc: 0.717  elapsed time(s): 27.67\n",
            "Epoch: 38/150  (batch: 40)  train loss: 0.02147  val loss: 0.02162  one-shot acc: 0.687  elapsed time(s): 25.43\n",
            "Epoch: 38/150  (batch: 60)  train loss: 0.01932  val loss: 0.01989  one-shot acc: 0.687  elapsed time(s): 25.34\n",
            "Epoch: 39/150  (batch: 20)  train loss: 0.01952  val loss: 0.01779  one-shot acc: 0.713  elapsed time(s): 27.51\n",
            "Epoch: 39/150  (batch: 40)  train loss: 0.01861  val loss: 0.02164  one-shot acc: 0.650  elapsed time(s): 25.28\n",
            "Epoch: 39/150  (batch: 60)  train loss: 0.01960  val loss: 0.01984  one-shot acc: 0.633  elapsed time(s): 25.27\n",
            "Epoch: 40/150  (batch: 20)  train loss: 0.01854  val loss: 0.01295  one-shot acc: 0.673  elapsed time(s): 27.43\n",
            "Epoch: 40/150  (batch: 40)  train loss: 0.02386  val loss: 0.01496  one-shot acc: 0.680  elapsed time(s): 25.42\n",
            "Epoch: 40/150  (batch: 60)  train loss: 0.01785  val loss: 0.01508  one-shot acc: 0.687  elapsed time(s): 25.22\n",
            "Epoch: 41/150  (batch: 20)  train loss: 0.01795  val loss: 0.01731  one-shot acc: 0.670  elapsed time(s): 27.42\n",
            "Epoch: 41/150  (batch: 40)  train loss: 0.01787  val loss: 0.01769  one-shot acc: 0.700  elapsed time(s): 25.00\n",
            "Epoch: 41/150  (batch: 60)  train loss: 0.02404  val loss: 0.01749  one-shot acc: 0.690  elapsed time(s): 25.06\n",
            "Epoch: 42/150  (batch: 20)  train loss: 0.01645  val loss: 0.01507  one-shot acc: 0.667  elapsed time(s): 27.29\n",
            "Epoch: 42/150  (batch: 40)  train loss: 0.02340  val loss: 0.01776  one-shot acc: 0.677  elapsed time(s): 25.02\n",
            "Epoch: 42/150  (batch: 60)  train loss: 0.02257  val loss: 0.01898  one-shot acc: 0.670  elapsed time(s): 25.07\n",
            "Epoch: 43/150  (batch: 20)  train loss: 0.01804  val loss: 0.01414  one-shot acc: 0.687  elapsed time(s): 27.05\n",
            "Epoch: 43/150  (batch: 40)  train loss: 0.01953  val loss: 0.01843  one-shot acc: 0.673  elapsed time(s): 24.98\n",
            "Epoch: 43/150  (batch: 60)  train loss: 0.01875  val loss: 0.01887  one-shot acc: 0.673  elapsed time(s): 24.93\n",
            "Epoch: 44/150  (batch: 20)  train loss: 0.01442  val loss: 0.01472  one-shot acc: 0.683  elapsed time(s): 27.00\n",
            "Epoch: 44/150  (batch: 40)  train loss: 0.01909  val loss: 0.01465  one-shot acc: 0.707  elapsed time(s): 25.34\n",
            "Epoch: 44/150  (batch: 60)  train loss: 0.01735  val loss: 0.01633  one-shot acc: 0.683  elapsed time(s): 24.92\n",
            "Epoch: 45/150  (batch: 20)  train loss: 0.01404  val loss: 0.01488  one-shot acc: 0.650  elapsed time(s): 26.98\n",
            "Epoch: 45/150  (batch: 40)  train loss: 0.01644  val loss: 0.01388  one-shot acc: 0.700  elapsed time(s): 24.87\n",
            "Epoch: 45/150  (batch: 60)  train loss: 0.01689  val loss: 0.01591  one-shot acc: 0.663  elapsed time(s): 25.11\n",
            "Epoch: 46/150  (batch: 20)  train loss: 0.01391  val loss: 0.01235  one-shot acc: 0.680  elapsed time(s): 27.07\n",
            "Epoch: 46/150  (batch: 40)  train loss: 0.01337  val loss: 0.01681  one-shot acc: 0.660  elapsed time(s): 24.99\n",
            "Epoch: 46/150  (batch: 60)  train loss: 0.01210  val loss: 0.01481  one-shot acc: 0.717  elapsed time(s): 24.84\n",
            "Epoch: 47/150  (batch: 20)  train loss: 0.01449  val loss: 0.01183  one-shot acc: 0.643  elapsed time(s): 27.13\n",
            "Epoch: 47/150  (batch: 40)  train loss: 0.01681  val loss: 0.01218  one-shot acc: 0.733  elapsed time(s): 24.92\n",
            "Epoch: 47/150  (batch: 60)  train loss: 0.01415  val loss: 0.01486  one-shot acc: 0.653  elapsed time(s): 25.03\n",
            "Epoch: 48/150  (batch: 20)  train loss: 0.01688  val loss: 0.01263  one-shot acc: 0.697  elapsed time(s): 26.95\n",
            "Epoch: 48/150  (batch: 40)  train loss: 0.01569  val loss: 0.01243  one-shot acc: 0.707  elapsed time(s): 25.32\n",
            "Epoch: 48/150  (batch: 60)  train loss: 0.01414  val loss: 0.01385  one-shot acc: 0.713  elapsed time(s): 24.96\n",
            "Epoch: 49/150  (batch: 20)  train loss: 0.01171  val loss: 0.01538  one-shot acc: 0.657  elapsed time(s): 27.04\n",
            "Epoch: 49/150  (batch: 40)  train loss: 0.01258  val loss: 0.01583  one-shot acc: 0.713  elapsed time(s): 24.93\n",
            "Epoch: 49/150  (batch: 60)  train loss: 0.01213  val loss: 0.01715  one-shot acc: 0.677  elapsed time(s): 24.92\n",
            "Epoch: 50/150  (batch: 20)  train loss: 0.00830  val loss: 0.01292  one-shot acc: 0.743  elapsed time(s): 27.28\n",
            "Epoch: 50/150  (batch: 40)  train loss: 0.01099  val loss: 0.01084  one-shot acc: 0.700  elapsed time(s): 25.07\n",
            "Epoch: 50/150  (batch: 60)  train loss: 0.01193  val loss: 0.01208  one-shot acc: 0.713  elapsed time(s): 25.01\n",
            "Epoch: 51/150  (batch: 20)  train loss: 0.01139  val loss: 0.01018  one-shot acc: 0.720  elapsed time(s): 26.87\n",
            "Epoch: 51/150  (batch: 40)  train loss: 0.01554  val loss: 0.01220  one-shot acc: 0.703  elapsed time(s): 24.94\n",
            "Epoch: 51/150  (batch: 60)  train loss: 0.01319  val loss: 0.02154  one-shot acc: 0.660  elapsed time(s): 24.99\n",
            "Epoch: 52/150  (batch: 20)  train loss: 0.01019  val loss: 0.01397  one-shot acc: 0.697  elapsed time(s): 26.92\n",
            "Epoch: 52/150  (batch: 40)  train loss: 0.01715  val loss: 0.01114  one-shot acc: 0.673  elapsed time(s): 25.31\n",
            "Epoch: 52/150  (batch: 60)  train loss: 0.01460  val loss: 0.01546  one-shot acc: 0.727  elapsed time(s): 24.88\n",
            "Epoch: 53/150  (batch: 20)  train loss: 0.01175  val loss: 0.01335  one-shot acc: 0.710  elapsed time(s): 27.06\n",
            "Epoch: 53/150  (batch: 40)  train loss: 0.01489  val loss: 0.01068  one-shot acc: 0.703  elapsed time(s): 24.95\n",
            "Epoch: 53/150  (batch: 60)  train loss: 0.01317  val loss: 0.01603  one-shot acc: 0.710  elapsed time(s): 24.96\n",
            "Epoch: 54/150  (batch: 20)  train loss: 0.00920  val loss: 0.00935  one-shot acc: 0.673  elapsed time(s): 26.99\n",
            "Epoch: 54/150  (batch: 40)  train loss: 0.01401  val loss: 0.00867  one-shot acc: 0.730  elapsed time(s): 24.96\n",
            "Epoch: 54/150  (batch: 60)  train loss: 0.01241  val loss: 0.01223  one-shot acc: 0.667  elapsed time(s): 25.05\n",
            "Epoch: 55/150  (batch: 20)  train loss: 0.00912  val loss: 0.01044  one-shot acc: 0.667  elapsed time(s): 27.22\n",
            "Epoch: 55/150  (batch: 40)  train loss: 0.00851  val loss: 0.01166  one-shot acc: 0.663  elapsed time(s): 25.12\n",
            "Epoch: 55/150  (batch: 60)  train loss: 0.00932  val loss: 0.01041  one-shot acc: 0.670  elapsed time(s): 25.02\n",
            "Epoch: 56/150  (batch: 20)  train loss: 0.00841  val loss: 0.00868  one-shot acc: 0.650  elapsed time(s): 26.86\n",
            "Epoch: 56/150  (batch: 40)  train loss: 0.01043  val loss: 0.00827  one-shot acc: 0.667  elapsed time(s): 25.33\n",
            "Epoch: 56/150  (batch: 60)  train loss: 0.01278  val loss: 0.01133  one-shot acc: 0.697  elapsed time(s): 25.13\n",
            "Epoch: 57/150  (batch: 20)  train loss: 0.00987  val loss: 0.01179  one-shot acc: 0.687  elapsed time(s): 27.16\n",
            "Epoch: 57/150  (batch: 40)  train loss: 0.00970  val loss: 0.01023  one-shot acc: 0.687  elapsed time(s): 24.92\n",
            "Epoch: 57/150  (batch: 60)  train loss: 0.01122  val loss: 0.01183  one-shot acc: 0.723  elapsed time(s): 25.08\n",
            "Epoch: 58/150  (batch: 20)  train loss: 0.00854  val loss: 0.00912  one-shot acc: 0.690  elapsed time(s): 27.60\n",
            "Epoch: 58/150  (batch: 40)  train loss: 0.00946  val loss: 0.00723  one-shot acc: 0.713  elapsed time(s): 24.98\n",
            "Epoch: 58/150  (batch: 60)  train loss: 0.00975  val loss: 0.01008  one-shot acc: 0.640  elapsed time(s): 25.10\n",
            "Epoch: 59/150  (batch: 20)  train loss: 0.00843  val loss: 0.00828  one-shot acc: 0.703  elapsed time(s): 27.06\n",
            "Epoch: 59/150  (batch: 40)  train loss: 0.01344  val loss: 0.01068  one-shot acc: 0.703  elapsed time(s): 25.07\n",
            "Epoch: 59/150  (batch: 60)  train loss: 0.01167  val loss: 0.01379  one-shot acc: 0.683  elapsed time(s): 25.14\n",
            "Epoch: 60/150  (batch: 20)  train loss: 0.00978  val loss: 0.00801  one-shot acc: 0.713  elapsed time(s): 27.15\n",
            "Epoch: 60/150  (batch: 40)  train loss: 0.00957  val loss: 0.01072  one-shot acc: 0.663  elapsed time(s): 25.39\n",
            "Epoch: 60/150  (batch: 60)  train loss: 0.01201  val loss: 0.01066  one-shot acc: 0.683  elapsed time(s): 25.24\n",
            "Epoch: 61/150  (batch: 20)  train loss: 0.01014  val loss: 0.00741  one-shot acc: 0.660  elapsed time(s): 27.62\n",
            "Epoch: 61/150  (batch: 40)  train loss: 0.01099  val loss: 0.01019  one-shot acc: 0.730  elapsed time(s): 25.22\n",
            "Epoch: 61/150  (batch: 60)  train loss: 0.00978  val loss: 0.01062  one-shot acc: 0.657  elapsed time(s): 25.17\n",
            "Epoch: 62/150  (batch: 20)  train loss: 0.00997  val loss: 0.00888  one-shot acc: 0.707  elapsed time(s): 27.16\n",
            "Epoch: 62/150  (batch: 40)  train loss: 0.01229  val loss: 0.00937  one-shot acc: 0.690  elapsed time(s): 24.99\n",
            "Epoch: 62/150  (batch: 60)  train loss: 0.01175  val loss: 0.01013  one-shot acc: 0.687  elapsed time(s): 25.01\n",
            "Epoch: 63/150  (batch: 20)  train loss: 0.00993  val loss: 0.00734  one-shot acc: 0.690  elapsed time(s): 27.00\n",
            "Epoch: 63/150  (batch: 40)  train loss: 0.01104  val loss: 0.01130  one-shot acc: 0.707  elapsed time(s): 25.06\n",
            "Epoch: 63/150  (batch: 60)  train loss: 0.01021  val loss: 0.01104  one-shot acc: 0.717  elapsed time(s): 25.03\n",
            "Epoch: 64/150  (batch: 20)  train loss: 0.00806  val loss: 0.00978  one-shot acc: 0.683  elapsed time(s): 27.00\n",
            "Epoch: 64/150  (batch: 40)  train loss: 0.00880  val loss: 0.00734  one-shot acc: 0.693  elapsed time(s): 25.38\n",
            "Epoch: 64/150  (batch: 60)  train loss: 0.00853  val loss: 0.01005  one-shot acc: 0.687  elapsed time(s): 24.90\n",
            "Epoch: 65/150  (batch: 20)  train loss: 0.00853  val loss: 0.01196  one-shot acc: 0.720  elapsed time(s): 26.95\n",
            "Epoch: 65/150  (batch: 40)  train loss: 0.00735  val loss: 0.00802  one-shot acc: 0.683  elapsed time(s): 24.96\n",
            "Epoch: 65/150  (batch: 60)  train loss: 0.00817  val loss: 0.00545  one-shot acc: 0.697  elapsed time(s): 25.24\n",
            "Epoch: 66/150  (batch: 20)  train loss: 0.00940  val loss: 0.00959  one-shot acc: 0.667  elapsed time(s): 27.09\n",
            "Epoch: 66/150  (batch: 40)  train loss: 0.00876  val loss: 0.01032  one-shot acc: 0.720  elapsed time(s): 25.08\n",
            "Epoch: 66/150  (batch: 60)  train loss: 0.00689  val loss: 0.00888  one-shot acc: 0.697  elapsed time(s): 25.01\n",
            "Epoch: 67/150  (batch: 20)  train loss: 0.00548  val loss: 0.00858  one-shot acc: 0.667  elapsed time(s): 26.97\n",
            "Epoch: 67/150  (batch: 40)  train loss: 0.00983  val loss: 0.00951  one-shot acc: 0.677  elapsed time(s): 25.04\n",
            "Epoch: 67/150  (batch: 60)  train loss: 0.00882  val loss: 0.00705  one-shot acc: 0.707  elapsed time(s): 25.00\n",
            "Epoch: 68/150  (batch: 20)  train loss: 0.00625  val loss: 0.00673  one-shot acc: 0.667  elapsed time(s): 27.18\n",
            "Epoch: 68/150  (batch: 40)  train loss: 0.00691  val loss: 0.00795  one-shot acc: 0.717  elapsed time(s): 25.42\n",
            "Epoch: 68/150  (batch: 60)  train loss: 0.01145  val loss: 0.01026  one-shot acc: 0.720  elapsed time(s): 25.03\n",
            "Epoch: 69/150  (batch: 20)  train loss: 0.00698  val loss: 0.00864  one-shot acc: 0.673  elapsed time(s): 27.26\n",
            "Epoch: 69/150  (batch: 40)  train loss: 0.00799  val loss: 0.00867  one-shot acc: 0.667  elapsed time(s): 25.08\n",
            "Epoch: 69/150  (batch: 60)  train loss: 0.01094  val loss: 0.00760  one-shot acc: 0.663  elapsed time(s): 25.29\n",
            "Epoch: 70/150  (batch: 20)  train loss: 0.00674  val loss: 0.00756  one-shot acc: 0.690  elapsed time(s): 27.34\n",
            "Epoch: 70/150  (batch: 40)  train loss: 0.00852  val loss: 0.01052  one-shot acc: 0.697  elapsed time(s): 24.98\n",
            "Epoch: 70/150  (batch: 60)  train loss: 0.01009  val loss: 0.00775  one-shot acc: 0.677  elapsed time(s): 25.10\n",
            "Epoch: 71/150  (batch: 20)  train loss: 0.00722  val loss: 0.00866  one-shot acc: 0.663  elapsed time(s): 27.20\n",
            "Epoch: 71/150  (batch: 40)  train loss: 0.00942  val loss: 0.00882  one-shot acc: 0.693  elapsed time(s): 24.99\n",
            "Epoch: 71/150  (batch: 60)  train loss: 0.01126  val loss: 0.01066  one-shot acc: 0.643  elapsed time(s): 24.95\n",
            "Epoch: 72/150  (batch: 20)  train loss: 0.00888  val loss: 0.00908  one-shot acc: 0.753  elapsed time(s): 26.98\n",
            "Epoch: 72/150  (batch: 40)  train loss: 0.00752  val loss: 0.00588  one-shot acc: 0.717  elapsed time(s): 25.43\n",
            "Epoch: 72/150  (batch: 60)  train loss: 0.01023  val loss: 0.00898  one-shot acc: 0.677  elapsed time(s): 24.92\n",
            "Epoch: 73/150  (batch: 20)  train loss: 0.01081  val loss: 0.00950  one-shot acc: 0.657  elapsed time(s): 26.98\n",
            "Epoch: 73/150  (batch: 40)  train loss: 0.00910  val loss: 0.00856  one-shot acc: 0.690  elapsed time(s): 24.99\n",
            "Epoch: 73/150  (batch: 60)  train loss: 0.00689  val loss: 0.01390  one-shot acc: 0.673  elapsed time(s): 25.02\n",
            "Epoch: 74/150  (batch: 20)  train loss: 0.00756  val loss: 0.00969  one-shot acc: 0.663  elapsed time(s): 26.98\n",
            "Epoch: 74/150  (batch: 40)  train loss: 0.01080  val loss: 0.01053  one-shot acc: 0.663  elapsed time(s): 25.03\n",
            "Epoch: 74/150  (batch: 60)  train loss: 0.00815  val loss: 0.01324  one-shot acc: 0.683  elapsed time(s): 24.90\n",
            "Epoch: 75/150  (batch: 20)  train loss: 0.00793  val loss: 0.00489  one-shot acc: 0.717  elapsed time(s): 26.76\n",
            "Epoch: 75/150  (batch: 40)  train loss: 0.00601  val loss: 0.00924  one-shot acc: 0.727  elapsed time(s): 25.05\n",
            "Epoch: 75/150  (batch: 60)  train loss: 0.00576  val loss: 0.00879  one-shot acc: 0.650  elapsed time(s): 24.95\n",
            "Epoch: 76/150  (batch: 20)  train loss: 0.00824  val loss: 0.00553  one-shot acc: 0.683  elapsed time(s): 26.90\n",
            "Epoch: 76/150  (batch: 40)  train loss: 0.00628  val loss: 0.00689  one-shot acc: 0.760  elapsed time(s): 25.32\n",
            "Epoch: 76/150  (batch: 60)  train loss: 0.00560  val loss: 0.00722  one-shot acc: 0.663  elapsed time(s): 24.89\n",
            "Epoch: 77/150  (batch: 20)  train loss: 0.00666  val loss: 0.00487  one-shot acc: 0.660  elapsed time(s): 26.91\n",
            "Epoch: 77/150  (batch: 40)  train loss: 0.00742  val loss: 0.00423  one-shot acc: 0.733  elapsed time(s): 24.91\n",
            "Epoch: 77/150  (batch: 60)  train loss: 0.00521  val loss: 0.00537  one-shot acc: 0.720  elapsed time(s): 24.98\n",
            "Epoch: 78/150  (batch: 20)  train loss: 0.00344  val loss: 0.00510  one-shot acc: 0.703  elapsed time(s): 26.89\n",
            "Epoch: 78/150  (batch: 40)  train loss: 0.00664  val loss: 0.00449  one-shot acc: 0.717  elapsed time(s): 24.98\n",
            "Epoch: 78/150  (batch: 60)  train loss: 0.00779  val loss: 0.00842  one-shot acc: 0.690  elapsed time(s): 24.97\n",
            "Epoch: 79/150  (batch: 20)  train loss: 0.00548  val loss: 0.00564  one-shot acc: 0.710  elapsed time(s): 26.87\n",
            "Epoch: 79/150  (batch: 40)  train loss: 0.00745  val loss: 0.00587  one-shot acc: 0.697  elapsed time(s): 24.90\n",
            "Epoch: 79/150  (batch: 60)  train loss: 0.00565  val loss: 0.00584  one-shot acc: 0.693  elapsed time(s): 24.92\n",
            "Epoch: 80/150  (batch: 20)  train loss: 0.00602  val loss: 0.00565  one-shot acc: 0.703  elapsed time(s): 26.97\n",
            "Epoch: 80/150  (batch: 40)  train loss: 0.00652  val loss: 0.00774  one-shot acc: 0.723  elapsed time(s): 25.10\n",
            "Epoch: 80/150  (batch: 60)  train loss: 0.00871  val loss: 0.00595  one-shot acc: 0.710  elapsed time(s): 24.97\n",
            "Epoch: 81/150  (batch: 20)  train loss: 0.00558  val loss: 0.00513  one-shot acc: 0.727  elapsed time(s): 26.82\n",
            "Epoch: 81/150  (batch: 40)  train loss: 0.00540  val loss: 0.00472  one-shot acc: 0.677  elapsed time(s): 25.01\n",
            "Epoch: 81/150  (batch: 60)  train loss: 0.00523  val loss: 0.00489  one-shot acc: 0.720  elapsed time(s): 24.99\n",
            "Epoch: 82/150  (batch: 20)  train loss: 0.00646  val loss: 0.00506  one-shot acc: 0.713  elapsed time(s): 26.91\n",
            "Epoch: 82/150  (batch: 40)  train loss: 0.00734  val loss: 0.00453  one-shot acc: 0.697  elapsed time(s): 24.92\n",
            "Epoch: 82/150  (batch: 60)  train loss: 0.00621  val loss: 0.00585  one-shot acc: 0.683  elapsed time(s): 25.04\n",
            "Epoch: 83/150  (batch: 20)  train loss: 0.00600  val loss: 0.00345  one-shot acc: 0.657  elapsed time(s): 26.99\n",
            "Epoch: 83/150  (batch: 40)  train loss: 0.00786  val loss: 0.00708  one-shot acc: 0.677  elapsed time(s): 24.91\n",
            "Epoch: 83/150  (batch: 60)  train loss: 0.00695  val loss: 0.00685  one-shot acc: 0.670  elapsed time(s): 24.92\n",
            "Epoch: 84/150  (batch: 20)  train loss: 0.00643  val loss: 0.00605  one-shot acc: 0.683  elapsed time(s): 26.98\n",
            "Epoch: 84/150  (batch: 40)  train loss: 0.00717  val loss: 0.00600  one-shot acc: 0.687  elapsed time(s): 25.02\n",
            "Epoch: 84/150  (batch: 60)  train loss: 0.00776  val loss: 0.00847  one-shot acc: 0.713  elapsed time(s): 25.03\n",
            "Epoch: 85/150  (batch: 20)  train loss: 0.00531  val loss: 0.00732  one-shot acc: 0.700  elapsed time(s): 26.93\n",
            "Epoch: 85/150  (batch: 40)  train loss: 0.00591  val loss: 0.00544  one-shot acc: 0.687  elapsed time(s): 25.05\n",
            "Epoch: 85/150  (batch: 60)  train loss: 0.00514  val loss: 0.00444  one-shot acc: 0.710  elapsed time(s): 24.94\n",
            "Epoch: 86/150  (batch: 20)  train loss: 0.00471  val loss: 0.00516  one-shot acc: 0.707  elapsed time(s): 27.04\n",
            "Epoch: 86/150  (batch: 40)  train loss: 0.00619  val loss: 0.00451  one-shot acc: 0.663  elapsed time(s): 24.77\n",
            "Epoch: 86/150  (batch: 60)  train loss: 0.00432  val loss: 0.00565  one-shot acc: 0.713  elapsed time(s): 25.01\n",
            "Epoch: 87/150  (batch: 20)  train loss: 0.00395  val loss: 0.00445  one-shot acc: 0.700  elapsed time(s): 26.86\n",
            "Epoch: 87/150  (batch: 40)  train loss: 0.00605  val loss: 0.00616  one-shot acc: 0.713  elapsed time(s): 24.82\n",
            "Epoch: 87/150  (batch: 60)  train loss: 0.00577  val loss: 0.00726  one-shot acc: 0.737  elapsed time(s): 24.86\n",
            "Epoch: 88/150  (batch: 20)  train loss: 0.00421  val loss: 0.00434  one-shot acc: 0.717  elapsed time(s): 27.07\n",
            "Epoch: 88/150  (batch: 40)  train loss: 0.00639  val loss: 0.00649  one-shot acc: 0.750  elapsed time(s): 24.92\n",
            "Epoch: 88/150  (batch: 60)  train loss: 0.00488  val loss: 0.00648  one-shot acc: 0.667  elapsed time(s): 25.07\n",
            "Epoch: 89/150  (batch: 20)  train loss: 0.00603  val loss: 0.00939  one-shot acc: 0.673  elapsed time(s): 27.01\n",
            "Epoch: 89/150  (batch: 40)  train loss: 0.00497  val loss: 0.00364  one-shot acc: 0.720  elapsed time(s): 25.15\n",
            "Epoch: 89/150  (batch: 60)  train loss: 0.00677  val loss: 0.00625  one-shot acc: 0.743  elapsed time(s): 24.83\n",
            "Epoch: 90/150  (batch: 20)  train loss: 0.00585  val loss: 0.00509  one-shot acc: 0.710  elapsed time(s): 26.89\n",
            "Epoch: 90/150  (batch: 40)  train loss: 0.00398  val loss: 0.00342  one-shot acc: 0.713  elapsed time(s): 24.90\n",
            "Epoch: 90/150  (batch: 60)  train loss: 0.00772  val loss: 0.01054  one-shot acc: 0.680  elapsed time(s): 24.86\n",
            "Epoch: 91/150  (batch: 20)  train loss: 0.00458  val loss: 0.00716  one-shot acc: 0.710  elapsed time(s): 26.98\n",
            "Epoch: 91/150  (batch: 40)  train loss: 0.00606  val loss: 0.00440  one-shot acc: 0.700  elapsed time(s): 25.00\n",
            "Epoch: 91/150  (batch: 60)  train loss: 0.00448  val loss: 0.00434  one-shot acc: 0.720  elapsed time(s): 24.89\n",
            "Epoch: 92/150  (batch: 20)  train loss: 0.00457  val loss: 0.00383  one-shot acc: 0.723  elapsed time(s): 27.16\n",
            "Epoch: 92/150  (batch: 40)  train loss: 0.00755  val loss: 0.00502  one-shot acc: 0.660  elapsed time(s): 24.94\n",
            "Epoch: 92/150  (batch: 60)  train loss: 0.00718  val loss: 0.02236  one-shot acc: 0.650  elapsed time(s): 25.11\n",
            "Epoch: 93/150  (batch: 20)  train loss: 0.00569  val loss: 0.00656  one-shot acc: 0.720  elapsed time(s): 27.17\n",
            "Epoch: 93/150  (batch: 40)  train loss: 0.00626  val loss: 0.00967  one-shot acc: 0.670  elapsed time(s): 25.11\n",
            "Epoch: 93/150  (batch: 60)  train loss: 0.00850  val loss: 0.01371  one-shot acc: 0.670  elapsed time(s): 25.03\n",
            "Epoch: 94/150  (batch: 20)  train loss: 0.00971  val loss: 0.02109  one-shot acc: 0.627  elapsed time(s): 27.15\n",
            "Epoch: 94/150  (batch: 40)  train loss: 0.00825  val loss: 0.00821  one-shot acc: 0.697  elapsed time(s): 24.97\n",
            "Epoch: 94/150  (batch: 60)  train loss: 0.00563  val loss: 0.01224  one-shot acc: 0.680  elapsed time(s): 24.90\n",
            "Epoch: 95/150  (batch: 20)  train loss: 0.00454  val loss: 0.00478  one-shot acc: 0.683  elapsed time(s): 27.10\n",
            "Epoch: 95/150  (batch: 40)  train loss: 0.00711  val loss: 0.01054  one-shot acc: 0.690  elapsed time(s): 24.97\n",
            "Epoch: 95/150  (batch: 60)  train loss: 0.00409  val loss: 0.00450  one-shot acc: 0.693  elapsed time(s): 25.03\n",
            "Epoch: 96/150  (batch: 20)  train loss: 0.00475  val loss: 0.00489  one-shot acc: 0.717  elapsed time(s): 26.96\n",
            "Epoch: 96/150  (batch: 40)  train loss: 0.00514  val loss: 0.00409  one-shot acc: 0.700  elapsed time(s): 25.10\n",
            "Epoch: 96/150  (batch: 60)  train loss: 0.00419  val loss: 0.00483  one-shot acc: 0.713  elapsed time(s): 25.36\n",
            "Epoch: 97/150  (batch: 20)  train loss: 0.00348  val loss: 0.00333  one-shot acc: 0.650  elapsed time(s): 26.82\n",
            "Epoch: 97/150  (batch: 40)  train loss: 0.00868  val loss: 0.00308  one-shot acc: 0.747  elapsed time(s): 25.11\n",
            "Epoch: 97/150  (batch: 60)  train loss: 0.00464  val loss: 0.00388  one-shot acc: 0.730  elapsed time(s): 25.03\n",
            "Epoch: 98/150  (batch: 20)  train loss: 0.00313  val loss: 0.00399  one-shot acc: 0.670  elapsed time(s): 27.15\n",
            "Epoch: 98/150  (batch: 40)  train loss: 0.00440  val loss: 0.00399  one-shot acc: 0.717  elapsed time(s): 24.91\n",
            "Epoch: 98/150  (batch: 60)  train loss: 0.00361  val loss: 0.00522  one-shot acc: 0.730  elapsed time(s): 24.95\n",
            "Epoch: 99/150  (batch: 20)  train loss: 0.00282  val loss: 0.00294  one-shot acc: 0.683  elapsed time(s): 27.00\n",
            "Epoch: 99/150  (batch: 40)  train loss: 0.00402  val loss: 0.00310  one-shot acc: 0.730  elapsed time(s): 24.98\n",
            "Epoch: 99/150  (batch: 60)  train loss: 0.00331  val loss: 0.00318  one-shot acc: 0.723  elapsed time(s): 24.92\n",
            "Epoch: 100/150  (batch: 20)  train loss: 0.00414  val loss: 0.00538  one-shot acc: 0.703  elapsed time(s): 26.99\n",
            "Epoch: 100/150  (batch: 40)  train loss: 0.00556  val loss: 0.00324  one-shot acc: 0.713  elapsed time(s): 25.03\n",
            "Epoch: 100/150  (batch: 60)  train loss: 0.00487  val loss: 0.00458  one-shot acc: 0.710  elapsed time(s): 25.29\n",
            "Epoch: 101/150  (batch: 20)  train loss: 0.00229  val loss: 0.00270  one-shot acc: 0.660  elapsed time(s): 26.87\n",
            "Epoch: 101/150  (batch: 40)  train loss: 0.00348  val loss: 0.00390  one-shot acc: 0.723  elapsed time(s): 25.03\n",
            "Epoch: 101/150  (batch: 60)  train loss: 0.00340  val loss: 0.00433  one-shot acc: 0.727  elapsed time(s): 24.84\n",
            "Epoch: 102/150  (batch: 20)  train loss: 0.00311  val loss: 0.00386  one-shot acc: 0.693  elapsed time(s): 27.03\n",
            "Epoch: 102/150  (batch: 40)  train loss: 0.00385  val loss: 0.00329  one-shot acc: 0.653  elapsed time(s): 24.99\n",
            "Epoch: 102/150  (batch: 60)  train loss: 0.00390  val loss: 0.00366  one-shot acc: 0.713  elapsed time(s): 24.91\n",
            "Epoch: 103/150  (batch: 20)  train loss: 0.00333  val loss: 0.00444  one-shot acc: 0.733  elapsed time(s): 26.92\n",
            "Epoch: 103/150  (batch: 40)  train loss: 0.00575  val loss: 0.00486  one-shot acc: 0.683  elapsed time(s): 25.01\n",
            "Epoch: 103/150  (batch: 60)  train loss: 0.00793  val loss: 0.00454  one-shot acc: 0.700  elapsed time(s): 25.06\n",
            "Epoch: 104/150  (batch: 20)  train loss: 0.00542  val loss: 0.00609  one-shot acc: 0.700  elapsed time(s): 26.97\n",
            "Epoch: 104/150  (batch: 40)  train loss: 0.00907  val loss: 0.00648  one-shot acc: 0.693  elapsed time(s): 25.02\n",
            "Epoch: 104/150  (batch: 60)  train loss: 0.00556  val loss: 0.01257  one-shot acc: 0.710  elapsed time(s): 25.52\n",
            "Epoch: 105/150  (batch: 20)  train loss: 0.00500  val loss: 0.00601  one-shot acc: 0.713  elapsed time(s): 27.00\n",
            "Epoch: 105/150  (batch: 40)  train loss: 0.00711  val loss: 0.00466  one-shot acc: 0.687  elapsed time(s): 25.29\n",
            "Epoch: 105/150  (batch: 60)  train loss: 0.00769  val loss: 0.00771  one-shot acc: 0.700  elapsed time(s): 25.10\n",
            "Epoch: 106/150  (batch: 20)  train loss: 0.00612  val loss: 0.00706  one-shot acc: 0.703  elapsed time(s): 26.98\n",
            "Epoch: 106/150  (batch: 40)  train loss: 0.00592  val loss: 0.00624  one-shot acc: 0.713  elapsed time(s): 25.08\n",
            "Epoch: 106/150  (batch: 60)  train loss: 0.00529  val loss: 0.00665  one-shot acc: 0.740  elapsed time(s): 25.08\n",
            "Epoch: 107/150  (batch: 20)  train loss: 0.00572  val loss: 0.00527  one-shot acc: 0.693  elapsed time(s): 26.92\n",
            "Epoch: 107/150  (batch: 40)  train loss: 0.00756  val loss: 0.00681  one-shot acc: 0.757  elapsed time(s): 24.96\n",
            "Epoch: 107/150  (batch: 60)  train loss: 0.00536  val loss: 0.00691  one-shot acc: 0.687  elapsed time(s): 25.05\n",
            "Epoch: 108/150  (batch: 20)  train loss: 0.00543  val loss: 0.00532  one-shot acc: 0.687  elapsed time(s): 27.01\n",
            "Epoch: 108/150  (batch: 40)  train loss: 0.00549  val loss: 0.00772  one-shot acc: 0.673  elapsed time(s): 24.99\n",
            "Epoch: 108/150  (batch: 60)  train loss: 0.00412  val loss: 0.00347  one-shot acc: 0.700  elapsed time(s): 25.29\n",
            "Epoch: 109/150  (batch: 20)  train loss: 0.00329  val loss: 0.00437  one-shot acc: 0.693  elapsed time(s): 27.07\n",
            "Epoch: 109/150  (batch: 40)  train loss: 0.00410  val loss: 0.00481  one-shot acc: 0.680  elapsed time(s): 25.04\n",
            "Epoch: 109/150  (batch: 60)  train loss: 0.00369  val loss: 0.00447  one-shot acc: 0.653  elapsed time(s): 25.03\n",
            "Epoch: 110/150  (batch: 20)  train loss: 0.00310  val loss: 0.00596  one-shot acc: 0.707  elapsed time(s): 27.15\n",
            "Epoch: 110/150  (batch: 40)  train loss: 0.00423  val loss: 0.00324  one-shot acc: 0.683  elapsed time(s): 25.05\n",
            "Epoch: 110/150  (batch: 60)  train loss: 0.00377  val loss: 0.00306  one-shot acc: 0.713  elapsed time(s): 24.91\n",
            "Epoch: 111/150  (batch: 20)  train loss: 0.00397  val loss: 0.00456  one-shot acc: 0.683  elapsed time(s): 27.09\n",
            "Epoch: 111/150  (batch: 40)  train loss: 0.00326  val loss: 0.00382  one-shot acc: 0.740  elapsed time(s): 25.07\n",
            "Epoch: 111/150  (batch: 60)  train loss: 0.00422  val loss: 0.00845  one-shot acc: 0.673  elapsed time(s): 25.01\n",
            "Epoch: 112/150  (batch: 20)  train loss: 0.00323  val loss: 0.00318  one-shot acc: 0.740  elapsed time(s): 26.86\n",
            "Epoch: 112/150  (batch: 40)  train loss: 0.00349  val loss: 0.00383  one-shot acc: 0.720  elapsed time(s): 25.06\n",
            "Epoch: 112/150  (batch: 60)  train loss: 0.00459  val loss: 0.00400  one-shot acc: 0.727  elapsed time(s): 25.44\n",
            "Epoch: 113/150  (batch: 20)  train loss: 0.00319  val loss: 0.00243  one-shot acc: 0.720  elapsed time(s): 27.19\n",
            "Epoch: 113/150  (batch: 40)  train loss: 0.00323  val loss: 0.00271  one-shot acc: 0.747  elapsed time(s): 25.08\n",
            "Epoch: 113/150  (batch: 60)  train loss: 0.00397  val loss: 0.00496  one-shot acc: 0.717  elapsed time(s): 24.96\n",
            "Epoch: 114/150  (batch: 20)  train loss: 0.00557  val loss: 0.00496  one-shot acc: 0.713  elapsed time(s): 27.13\n",
            "Epoch: 114/150  (batch: 40)  train loss: 0.00506  val loss: 0.00318  one-shot acc: 0.703  elapsed time(s): 25.01\n",
            "Epoch: 114/150  (batch: 60)  train loss: 0.00415  val loss: 0.00758  one-shot acc: 0.637  elapsed time(s): 25.01\n",
            "Epoch: 115/150  (batch: 20)  train loss: 0.00600  val loss: 0.00647  one-shot acc: 0.637  elapsed time(s): 27.29\n",
            "Epoch: 115/150  (batch: 40)  train loss: 0.00685  val loss: 0.00891  one-shot acc: 0.707  elapsed time(s): 24.97\n",
            "Epoch: 115/150  (batch: 60)  train loss: 0.00431  val loss: 0.00813  one-shot acc: 0.710  elapsed time(s): 24.95\n",
            "Epoch: 116/150  (batch: 20)  train loss: 0.00429  val loss: 0.00408  one-shot acc: 0.693  elapsed time(s): 27.06\n",
            "Epoch: 116/150  (batch: 40)  train loss: 0.00707  val loss: 0.00644  one-shot acc: 0.680  elapsed time(s): 25.02\n",
            "Epoch: 116/150  (batch: 60)  train loss: 0.00927  val loss: 0.00728  one-shot acc: 0.710  elapsed time(s): 25.45\n",
            "Epoch: 117/150  (batch: 20)  train loss: 0.00728  val loss: 0.01165  one-shot acc: 0.647  elapsed time(s): 27.13\n"
          ],
          "name": "stdout"
        },
        {
          "output_type": "error",
          "ename": "KeyboardInterrupt",
          "evalue": "ignored",
          "traceback": [
            "\u001b[0;31m---------------------------------------------------------------------------\u001b[0m",
            "\u001b[0;31mKeyboardInterrupt\u001b[0m                         Traceback (most recent call last)",
            "\u001b[0;32m<ipython-input-36-8d47f793df59>\u001b[0m in \u001b[0;36m<module>\u001b[0;34m()\u001b[0m\n\u001b[1;32m      2\u001b[0m \u001b[0;31m#model.load_state_dict(torch.load(\"model_66.pt\"))\u001b[0m\u001b[0;34m\u001b[0m\u001b[0;34m\u001b[0m\u001b[0;34m\u001b[0m\u001b[0m\n\u001b[1;32m      3\u001b[0m \u001b[0moptimizer\u001b[0m \u001b[0;34m=\u001b[0m \u001b[0moptim\u001b[0m\u001b[0;34m.\u001b[0m\u001b[0mAdam\u001b[0m\u001b[0;34m(\u001b[0m\u001b[0mmodel\u001b[0m\u001b[0;34m.\u001b[0m\u001b[0mparameters\u001b[0m\u001b[0;34m(\u001b[0m\u001b[0;34m)\u001b[0m\u001b[0;34m,\u001b[0m \u001b[0mlr\u001b[0m\u001b[0;34m=\u001b[0m\u001b[0;36m0.00006\u001b[0m\u001b[0;34m)\u001b[0m\u001b[0;34m\u001b[0m\u001b[0;34m\u001b[0m\u001b[0m\n\u001b[0;32m----> 4\u001b[0;31m \u001b[0mloss_dict2\u001b[0m \u001b[0;34m=\u001b[0m \u001b[0mtrain\u001b[0m\u001b[0;34m(\u001b[0m\u001b[0mmodel\u001b[0m\u001b[0;34m,\u001b[0m \u001b[0mcriterion\u001b[0m\u001b[0;34m,\u001b[0m \u001b[0moptimizer\u001b[0m\u001b[0;34m,\u001b[0m \u001b[0mn_epochs\u001b[0m\u001b[0;34m=\u001b[0m\u001b[0;36m150\u001b[0m\u001b[0;34m,\u001b[0m \u001b[0mn_test\u001b[0m\u001b[0;34m=\u001b[0m\u001b[0;36m300\u001b[0m\u001b[0;34m)\u001b[0m\u001b[0;34m\u001b[0m\u001b[0;34m\u001b[0m\u001b[0m\n\u001b[0m",
            "\u001b[0;32m<ipython-input-35-f4b8b8e0fa4c>\u001b[0m in \u001b[0;36mtrain\u001b[0;34m(model, criterion, optimizer, n_epochs, n_test, print_every, save_model_path, save_loss_dict_path)\u001b[0m\n\u001b[1;32m     50\u001b[0m                         \u001b[0;32mfor\u001b[0m \u001b[0mj\u001b[0m\u001b[0;34m,\u001b[0m \u001b[0mimg2\u001b[0m \u001b[0;32min\u001b[0m \u001b[0menumerate\u001b[0m\u001b[0;34m(\u001b[0m\u001b[0mimgs\u001b[0m\u001b[0;34m)\u001b[0m\u001b[0;34m:\u001b[0m\u001b[0;34m\u001b[0m\u001b[0;34m\u001b[0m\u001b[0m\n\u001b[1;32m     51\u001b[0m                             \u001b[0mimg2\u001b[0m \u001b[0;34m=\u001b[0m \u001b[0mimg2\u001b[0m\u001b[0;34m.\u001b[0m\u001b[0mto\u001b[0m\u001b[0;34m(\u001b[0m\u001b[0mdevice\u001b[0m\u001b[0;34m)\u001b[0m\u001b[0;34m\u001b[0m\u001b[0;34m\u001b[0m\u001b[0m\n\u001b[0;32m---> 52\u001b[0;31m                             \u001b[0msimilarity_scores\u001b[0m\u001b[0;34m.\u001b[0m\u001b[0mappend\u001b[0m\u001b[0;34m(\u001b[0m \u001b[0mmodel\u001b[0m\u001b[0;34m(\u001b[0m\u001b[0mimg1\u001b[0m\u001b[0;34m,\u001b[0m \u001b[0mimg2\u001b[0m\u001b[0;34m)\u001b[0m \u001b[0;34m)\u001b[0m\u001b[0;34m\u001b[0m\u001b[0;34m\u001b[0m\u001b[0m\n\u001b[0m\u001b[1;32m     53\u001b[0m                         \u001b[0;32mif\u001b[0m \u001b[0mnp\u001b[0m\u001b[0;34m.\u001b[0m\u001b[0margmax\u001b[0m\u001b[0;34m(\u001b[0m\u001b[0msimilarity_scores\u001b[0m\u001b[0;34m)\u001b[0m \u001b[0;34m==\u001b[0m \u001b[0mlabel\u001b[0m\u001b[0;34m[\u001b[0m\u001b[0;36m0\u001b[0m\u001b[0;34m]\u001b[0m\u001b[0;34m:\u001b[0m\u001b[0;34m\u001b[0m\u001b[0;34m\u001b[0m\u001b[0m\n\u001b[1;32m     54\u001b[0m                             \u001b[0mcorrect\u001b[0m \u001b[0;34m+=\u001b[0m \u001b[0;36m1\u001b[0m\u001b[0;34m\u001b[0m\u001b[0;34m\u001b[0m\u001b[0m\n",
            "\u001b[0;32m/usr/local/lib/python3.6/dist-packages/torch/nn/modules/module.py\u001b[0m in \u001b[0;36m_call_impl\u001b[0;34m(self, *input, **kwargs)\u001b[0m\n\u001b[1;32m    720\u001b[0m             \u001b[0mresult\u001b[0m \u001b[0;34m=\u001b[0m \u001b[0mself\u001b[0m\u001b[0;34m.\u001b[0m\u001b[0m_slow_forward\u001b[0m\u001b[0;34m(\u001b[0m\u001b[0;34m*\u001b[0m\u001b[0minput\u001b[0m\u001b[0;34m,\u001b[0m \u001b[0;34m**\u001b[0m\u001b[0mkwargs\u001b[0m\u001b[0;34m)\u001b[0m\u001b[0;34m\u001b[0m\u001b[0;34m\u001b[0m\u001b[0m\n\u001b[1;32m    721\u001b[0m         \u001b[0;32melse\u001b[0m\u001b[0;34m:\u001b[0m\u001b[0;34m\u001b[0m\u001b[0;34m\u001b[0m\u001b[0m\n\u001b[0;32m--> 722\u001b[0;31m             \u001b[0mresult\u001b[0m \u001b[0;34m=\u001b[0m \u001b[0mself\u001b[0m\u001b[0;34m.\u001b[0m\u001b[0mforward\u001b[0m\u001b[0;34m(\u001b[0m\u001b[0;34m*\u001b[0m\u001b[0minput\u001b[0m\u001b[0;34m,\u001b[0m \u001b[0;34m**\u001b[0m\u001b[0mkwargs\u001b[0m\u001b[0;34m)\u001b[0m\u001b[0;34m\u001b[0m\u001b[0;34m\u001b[0m\u001b[0m\n\u001b[0m\u001b[1;32m    723\u001b[0m         for hook in itertools.chain(\n\u001b[1;32m    724\u001b[0m                 \u001b[0m_global_forward_hooks\u001b[0m\u001b[0;34m.\u001b[0m\u001b[0mvalues\u001b[0m\u001b[0;34m(\u001b[0m\u001b[0;34m)\u001b[0m\u001b[0;34m,\u001b[0m\u001b[0;34m\u001b[0m\u001b[0;34m\u001b[0m\u001b[0m\n",
            "\u001b[0;32m<ipython-input-32-35c15f6e3b6a>\u001b[0m in \u001b[0;36mforward\u001b[0;34m(self, x1, x2)\u001b[0m\n\u001b[1;32m     39\u001b[0m     \u001b[0;32mdef\u001b[0m \u001b[0mforward\u001b[0m\u001b[0;34m(\u001b[0m\u001b[0mself\u001b[0m\u001b[0;34m,\u001b[0m \u001b[0mx1\u001b[0m\u001b[0;34m,\u001b[0m \u001b[0mx2\u001b[0m\u001b[0;34m)\u001b[0m\u001b[0;34m:\u001b[0m\u001b[0;34m\u001b[0m\u001b[0;34m\u001b[0m\u001b[0m\n\u001b[1;32m     40\u001b[0m         \u001b[0mout1\u001b[0m \u001b[0;34m=\u001b[0m \u001b[0mself\u001b[0m\u001b[0;34m.\u001b[0m\u001b[0mforward_one\u001b[0m\u001b[0;34m(\u001b[0m\u001b[0mx1\u001b[0m\u001b[0;34m)\u001b[0m\u001b[0;34m\u001b[0m\u001b[0;34m\u001b[0m\u001b[0m\n\u001b[0;32m---> 41\u001b[0;31m         \u001b[0mout2\u001b[0m \u001b[0;34m=\u001b[0m \u001b[0mself\u001b[0m\u001b[0;34m.\u001b[0m\u001b[0mforward_one\u001b[0m\u001b[0;34m(\u001b[0m\u001b[0mx2\u001b[0m\u001b[0;34m)\u001b[0m\u001b[0;34m\u001b[0m\u001b[0;34m\u001b[0m\u001b[0m\n\u001b[0m\u001b[1;32m     42\u001b[0m \u001b[0;34m\u001b[0m\u001b[0m\n\u001b[1;32m     43\u001b[0m         \u001b[0mdist_vec\u001b[0m \u001b[0;34m=\u001b[0m \u001b[0mtorch\u001b[0m\u001b[0;34m.\u001b[0m\u001b[0mabs\u001b[0m\u001b[0;34m(\u001b[0m\u001b[0mout1\u001b[0m \u001b[0;34m-\u001b[0m \u001b[0mout2\u001b[0m\u001b[0;34m)\u001b[0m\u001b[0;34m\u001b[0m\u001b[0;34m\u001b[0m\u001b[0m\n",
            "\u001b[0;32m<ipython-input-32-35c15f6e3b6a>\u001b[0m in \u001b[0;36mforward_one\u001b[0;34m(self, x)\u001b[0m\n\u001b[1;32m     31\u001b[0m \u001b[0;34m\u001b[0m\u001b[0m\n\u001b[1;32m     32\u001b[0m     \u001b[0;32mdef\u001b[0m \u001b[0mforward_one\u001b[0m\u001b[0;34m(\u001b[0m\u001b[0mself\u001b[0m\u001b[0;34m,\u001b[0m \u001b[0mx\u001b[0m\u001b[0;34m)\u001b[0m\u001b[0;34m:\u001b[0m\u001b[0;34m\u001b[0m\u001b[0;34m\u001b[0m\u001b[0m\n\u001b[0;32m---> 33\u001b[0;31m         \u001b[0mout\u001b[0m \u001b[0;34m=\u001b[0m \u001b[0mself\u001b[0m\u001b[0;34m.\u001b[0m\u001b[0mconv\u001b[0m\u001b[0;34m(\u001b[0m\u001b[0mx\u001b[0m\u001b[0;34m)\u001b[0m\u001b[0;34m\u001b[0m\u001b[0;34m\u001b[0m\u001b[0m\n\u001b[0m\u001b[1;32m     34\u001b[0m         \u001b[0mout\u001b[0m \u001b[0;34m=\u001b[0m \u001b[0mout\u001b[0m\u001b[0;34m.\u001b[0m\u001b[0mview\u001b[0m\u001b[0;34m(\u001b[0m\u001b[0;34m-\u001b[0m\u001b[0;36m1\u001b[0m\u001b[0;34m,\u001b[0m \u001b[0;36m256\u001b[0m\u001b[0;34m*\u001b[0m\u001b[0;36m6\u001b[0m\u001b[0;34m*\u001b[0m\u001b[0;36m6\u001b[0m\u001b[0;34m)\u001b[0m\u001b[0;34m\u001b[0m\u001b[0;34m\u001b[0m\u001b[0m\n\u001b[1;32m     35\u001b[0m         \u001b[0mout\u001b[0m \u001b[0;34m=\u001b[0m \u001b[0mself\u001b[0m\u001b[0;34m.\u001b[0m\u001b[0mfc1\u001b[0m\u001b[0;34m(\u001b[0m\u001b[0mout\u001b[0m\u001b[0;34m)\u001b[0m\u001b[0;34m\u001b[0m\u001b[0;34m\u001b[0m\u001b[0m\n",
            "\u001b[0;32m/usr/local/lib/python3.6/dist-packages/torch/nn/modules/module.py\u001b[0m in \u001b[0;36m_call_impl\u001b[0;34m(self, *input, **kwargs)\u001b[0m\n\u001b[1;32m    720\u001b[0m             \u001b[0mresult\u001b[0m \u001b[0;34m=\u001b[0m \u001b[0mself\u001b[0m\u001b[0;34m.\u001b[0m\u001b[0m_slow_forward\u001b[0m\u001b[0;34m(\u001b[0m\u001b[0;34m*\u001b[0m\u001b[0minput\u001b[0m\u001b[0;34m,\u001b[0m \u001b[0;34m**\u001b[0m\u001b[0mkwargs\u001b[0m\u001b[0;34m)\u001b[0m\u001b[0;34m\u001b[0m\u001b[0;34m\u001b[0m\u001b[0m\n\u001b[1;32m    721\u001b[0m         \u001b[0;32melse\u001b[0m\u001b[0;34m:\u001b[0m\u001b[0;34m\u001b[0m\u001b[0;34m\u001b[0m\u001b[0m\n\u001b[0;32m--> 722\u001b[0;31m             \u001b[0mresult\u001b[0m \u001b[0;34m=\u001b[0m \u001b[0mself\u001b[0m\u001b[0;34m.\u001b[0m\u001b[0mforward\u001b[0m\u001b[0;34m(\u001b[0m\u001b[0;34m*\u001b[0m\u001b[0minput\u001b[0m\u001b[0;34m,\u001b[0m \u001b[0;34m**\u001b[0m\u001b[0mkwargs\u001b[0m\u001b[0;34m)\u001b[0m\u001b[0;34m\u001b[0m\u001b[0;34m\u001b[0m\u001b[0m\n\u001b[0m\u001b[1;32m    723\u001b[0m         for hook in itertools.chain(\n\u001b[1;32m    724\u001b[0m                 \u001b[0m_global_forward_hooks\u001b[0m\u001b[0;34m.\u001b[0m\u001b[0mvalues\u001b[0m\u001b[0;34m(\u001b[0m\u001b[0;34m)\u001b[0m\u001b[0;34m,\u001b[0m\u001b[0;34m\u001b[0m\u001b[0;34m\u001b[0m\u001b[0m\n",
            "\u001b[0;32m/usr/local/lib/python3.6/dist-packages/torch/nn/modules/container.py\u001b[0m in \u001b[0;36mforward\u001b[0;34m(self, input)\u001b[0m\n\u001b[1;32m    115\u001b[0m     \u001b[0;32mdef\u001b[0m \u001b[0mforward\u001b[0m\u001b[0;34m(\u001b[0m\u001b[0mself\u001b[0m\u001b[0;34m,\u001b[0m \u001b[0minput\u001b[0m\u001b[0;34m)\u001b[0m\u001b[0;34m:\u001b[0m\u001b[0;34m\u001b[0m\u001b[0;34m\u001b[0m\u001b[0m\n\u001b[1;32m    116\u001b[0m         \u001b[0;32mfor\u001b[0m \u001b[0mmodule\u001b[0m \u001b[0;32min\u001b[0m \u001b[0mself\u001b[0m\u001b[0;34m:\u001b[0m\u001b[0;34m\u001b[0m\u001b[0;34m\u001b[0m\u001b[0m\n\u001b[0;32m--> 117\u001b[0;31m             \u001b[0minput\u001b[0m \u001b[0;34m=\u001b[0m \u001b[0mmodule\u001b[0m\u001b[0;34m(\u001b[0m\u001b[0minput\u001b[0m\u001b[0;34m)\u001b[0m\u001b[0;34m\u001b[0m\u001b[0;34m\u001b[0m\u001b[0m\n\u001b[0m\u001b[1;32m    118\u001b[0m         \u001b[0;32mreturn\u001b[0m \u001b[0minput\u001b[0m\u001b[0;34m\u001b[0m\u001b[0;34m\u001b[0m\u001b[0m\n\u001b[1;32m    119\u001b[0m \u001b[0;34m\u001b[0m\u001b[0m\n",
            "\u001b[0;32m/usr/local/lib/python3.6/dist-packages/torch/nn/modules/module.py\u001b[0m in \u001b[0;36m_call_impl\u001b[0;34m(self, *input, **kwargs)\u001b[0m\n\u001b[1;32m    720\u001b[0m             \u001b[0mresult\u001b[0m \u001b[0;34m=\u001b[0m \u001b[0mself\u001b[0m\u001b[0;34m.\u001b[0m\u001b[0m_slow_forward\u001b[0m\u001b[0;34m(\u001b[0m\u001b[0;34m*\u001b[0m\u001b[0minput\u001b[0m\u001b[0;34m,\u001b[0m \u001b[0;34m**\u001b[0m\u001b[0mkwargs\u001b[0m\u001b[0;34m)\u001b[0m\u001b[0;34m\u001b[0m\u001b[0;34m\u001b[0m\u001b[0m\n\u001b[1;32m    721\u001b[0m         \u001b[0;32melse\u001b[0m\u001b[0;34m:\u001b[0m\u001b[0;34m\u001b[0m\u001b[0;34m\u001b[0m\u001b[0m\n\u001b[0;32m--> 722\u001b[0;31m             \u001b[0mresult\u001b[0m \u001b[0;34m=\u001b[0m \u001b[0mself\u001b[0m\u001b[0;34m.\u001b[0m\u001b[0mforward\u001b[0m\u001b[0;34m(\u001b[0m\u001b[0;34m*\u001b[0m\u001b[0minput\u001b[0m\u001b[0;34m,\u001b[0m \u001b[0;34m**\u001b[0m\u001b[0mkwargs\u001b[0m\u001b[0;34m)\u001b[0m\u001b[0;34m\u001b[0m\u001b[0;34m\u001b[0m\u001b[0m\n\u001b[0m\u001b[1;32m    723\u001b[0m         for hook in itertools.chain(\n\u001b[1;32m    724\u001b[0m                 \u001b[0m_global_forward_hooks\u001b[0m\u001b[0;34m.\u001b[0m\u001b[0mvalues\u001b[0m\u001b[0;34m(\u001b[0m\u001b[0;34m)\u001b[0m\u001b[0;34m,\u001b[0m\u001b[0;34m\u001b[0m\u001b[0;34m\u001b[0m\u001b[0m\n",
            "\u001b[0;32m/usr/local/lib/python3.6/dist-packages/torch/nn/modules/conv.py\u001b[0m in \u001b[0;36mforward\u001b[0;34m(self, input)\u001b[0m\n\u001b[1;32m    417\u001b[0m \u001b[0;34m\u001b[0m\u001b[0m\n\u001b[1;32m    418\u001b[0m     \u001b[0;32mdef\u001b[0m \u001b[0mforward\u001b[0m\u001b[0;34m(\u001b[0m\u001b[0mself\u001b[0m\u001b[0;34m,\u001b[0m \u001b[0minput\u001b[0m\u001b[0;34m:\u001b[0m \u001b[0mTensor\u001b[0m\u001b[0;34m)\u001b[0m \u001b[0;34m->\u001b[0m \u001b[0mTensor\u001b[0m\u001b[0;34m:\u001b[0m\u001b[0;34m\u001b[0m\u001b[0;34m\u001b[0m\u001b[0m\n\u001b[0;32m--> 419\u001b[0;31m         \u001b[0;32mreturn\u001b[0m \u001b[0mself\u001b[0m\u001b[0;34m.\u001b[0m\u001b[0m_conv_forward\u001b[0m\u001b[0;34m(\u001b[0m\u001b[0minput\u001b[0m\u001b[0;34m,\u001b[0m \u001b[0mself\u001b[0m\u001b[0;34m.\u001b[0m\u001b[0mweight\u001b[0m\u001b[0;34m)\u001b[0m\u001b[0;34m\u001b[0m\u001b[0;34m\u001b[0m\u001b[0m\n\u001b[0m\u001b[1;32m    420\u001b[0m \u001b[0;34m\u001b[0m\u001b[0m\n\u001b[1;32m    421\u001b[0m \u001b[0;32mclass\u001b[0m \u001b[0mConv3d\u001b[0m\u001b[0;34m(\u001b[0m\u001b[0m_ConvNd\u001b[0m\u001b[0;34m)\u001b[0m\u001b[0;34m:\u001b[0m\u001b[0;34m\u001b[0m\u001b[0;34m\u001b[0m\u001b[0m\n",
            "\u001b[0;32m/usr/local/lib/python3.6/dist-packages/torch/nn/modules/conv.py\u001b[0m in \u001b[0;36m_conv_forward\u001b[0;34m(self, input, weight)\u001b[0m\n\u001b[1;32m    414\u001b[0m                             _pair(0), self.dilation, self.groups)\n\u001b[1;32m    415\u001b[0m         return F.conv2d(input, weight, self.bias, self.stride,\n\u001b[0;32m--> 416\u001b[0;31m                         self.padding, self.dilation, self.groups)\n\u001b[0m\u001b[1;32m    417\u001b[0m \u001b[0;34m\u001b[0m\u001b[0m\n\u001b[1;32m    418\u001b[0m     \u001b[0;32mdef\u001b[0m \u001b[0mforward\u001b[0m\u001b[0;34m(\u001b[0m\u001b[0mself\u001b[0m\u001b[0;34m,\u001b[0m \u001b[0minput\u001b[0m\u001b[0;34m:\u001b[0m \u001b[0mTensor\u001b[0m\u001b[0;34m)\u001b[0m \u001b[0;34m->\u001b[0m \u001b[0mTensor\u001b[0m\u001b[0;34m:\u001b[0m\u001b[0;34m\u001b[0m\u001b[0;34m\u001b[0m\u001b[0m\n",
            "\u001b[0;31mKeyboardInterrupt\u001b[0m: "
          ]
        }
      ]
    },
    {
      "cell_type": "code",
      "metadata": {
        "id": "3RPg3JOzuRYB",
        "colab_type": "code",
        "colab": {
          "base_uri": "https://localhost:8080/",
          "height": 295
        },
        "outputId": "44a7d76f-5cbb-431b-8b4b-1cd1a29bde3c"
      },
      "source": [
        "loss_dict_76 = pkl.load(open(\"loss_dict_76.pkl\", \"rb\"))\n",
        "plt.plot(loss_dict_76[\"train_losses\"])\n",
        "plt.plot(loss_dict_76[\"valid_losses\"])\n",
        "plt.title(\"Loss vs. Training Step\")\n",
        "plt.xlabel(\"training step\")\n",
        "plt.ylabel(\"loss\")\n",
        "plt.legend([\"training loss\", \"valid loss\"])\n",
        "plt.show()"
      ],
      "execution_count": null,
      "outputs": [
        {
          "output_type": "display_data",
          "data": {
            "image/png": "[encoded data removed]",
            "text/plain": [
              "<Figure size 432x288 with 1 Axes>"
            ]
          },
          "metadata": {
            "tags": [],
            "needs_background": "light"
          }
        }
      ]
    },
    {
      "cell_type": "code",
      "metadata": {
        "id": "u99wM9zTd_fr",
        "colab_type": "code",
        "colab": {
          "base_uri": "https://localhost:8080/",
          "height": 295
        },
        "outputId": "d3b44787-f239-47ba-d8e0-bcd15610998a"
      },
      "source": [
        "plt.plot(loss_dict_76[\"test_accs\"])\n",
        "plt.title(\"One-shot Test Accuracy vs. Training Step\")\n",
        "plt.xlabel(\"training step\")\n",
        "plt.ylabel(\"one-shot accuracy\")\n",
        "plt.show()"
      ],
      "execution_count": null,
      "outputs": [
        {
          "output_type": "display_data",
          "data": {
            "image/png": "[encoded data removed]",
            "text/plain": [
              "<Figure size 432x288 with 1 Axes>"
            ]
          },
          "metadata": {
            "tags": [],
            "needs_background": "light"
          }
        }
      ]
    },
    {
      "cell_type": "markdown",
      "metadata": {
        "id": "aGWCYpKjCGf9",
        "colab_type": "text"
      },
      "source": [
        "Highest one-shot test accuracy of 76% was achieved, although the accuracies near the last half of the training stage (last 50 epochs) jumped between accuracy of 60s and 70s. --> improvement!"
      ]
    },
    {
      "cell_type": "code",
      "metadata": {
        "id": "0uvOMNwBeNaQ",
        "colab_type": "code",
        "colab": {
          "base_uri": "https://localhost:8080/",
          "height": 902
        },
        "outputId": "52a24a21-042c-4a0f-9a85-d990c46b188d"
      },
      "source": [
        "# load best model and reduce\n",
        "model.load_state_dict(torch.load(\"model_76.pt\"))\n",
        "optimizer = optim.Adam(model.parameters(), lr=0.000006)\n",
        "loss_dict2 = train(model, criterion, optimizer, n_epochs=50, n_test=300)"
      ],
      "execution_count": 43,
      "outputs": [
        {
          "output_type": "stream",
          "text": [
            "Epoch: 1/50  (batch: 20)  train loss: 0.00729  val loss: 0.00712  one-shot acc: 0.707  elapsed time(s): 26.34\n",
            "Epoch: 1/50  (batch: 40)  train loss: 0.00673  val loss: 0.00523  one-shot acc: 0.720  elapsed time(s): 25.20\n",
            "Epoch: 1/50  (batch: 60)  train loss: 0.01022  val loss: 0.00495  one-shot acc: 0.737  elapsed time(s): 25.04\n",
            "Epoch: 2/50  (batch: 20)  train loss: 0.00610  val loss: 0.00535  one-shot acc: 0.713  elapsed time(s): 27.09\n",
            "Epoch: 2/50  (batch: 40)  train loss: 0.00931  val loss: 0.00525  one-shot acc: 0.683  elapsed time(s): 25.05\n",
            "Epoch: 2/50  (batch: 60)  train loss: 0.00726  val loss: 0.00446  one-shot acc: 0.683  elapsed time(s): 24.98\n",
            "Epoch: 3/50  (batch: 20)  train loss: 0.00599  val loss: 0.00410  one-shot acc: 0.693  elapsed time(s): 26.99\n",
            "Epoch: 3/50  (batch: 40)  train loss: 0.00750  val loss: 0.00366  one-shot acc: 0.697  elapsed time(s): 24.99\n",
            "Epoch: 3/50  (batch: 60)  train loss: 0.00537  val loss: 0.00416  one-shot acc: 0.707  elapsed time(s): 25.02\n",
            "Epoch: 4/50  (batch: 20)  train loss: 0.00554  val loss: 0.00703  one-shot acc: 0.700  elapsed time(s): 27.17\n",
            "Epoch: 4/50  (batch: 40)  train loss: 0.00669  val loss: 0.00493  one-shot acc: 0.720  elapsed time(s): 25.05\n",
            "Epoch: 4/50  (batch: 60)  train loss: 0.00492  val loss: 0.00561  one-shot acc: 0.760  elapsed time(s): 25.34\n",
            "Epoch: 5/50  (batch: 20)  train loss: 0.00410  val loss: 0.00440  one-shot acc: 0.727  elapsed time(s): 27.05\n",
            "Epoch: 5/50  (batch: 40)  train loss: 0.00722  val loss: 0.00462  one-shot acc: 0.720  elapsed time(s): 25.18\n",
            "Epoch: 5/50  (batch: 60)  train loss: 0.00513  val loss: 0.00460  one-shot acc: 0.710  elapsed time(s): 25.06\n",
            "Epoch: 6/50  (batch: 20)  train loss: 0.00410  val loss: 0.00473  one-shot acc: 0.683  elapsed time(s): 27.15\n",
            "Epoch: 6/50  (batch: 40)  train loss: 0.00546  val loss: 0.00543  one-shot acc: 0.667  elapsed time(s): 25.09\n",
            "Epoch: 6/50  (batch: 60)  train loss: 0.00396  val loss: 0.00286  one-shot acc: 0.680  elapsed time(s): 25.11\n",
            "Epoch: 7/50  (batch: 20)  train loss: 0.00385  val loss: 0.00345  one-shot acc: 0.713  elapsed time(s): 27.11\n",
            "Epoch: 7/50  (batch: 40)  train loss: 0.00441  val loss: 0.00447  one-shot acc: 0.687  elapsed time(s): 25.03\n",
            "Epoch: 7/50  (batch: 60)  train loss: 0.00535  val loss: 0.00308  one-shot acc: 0.700  elapsed time(s): 25.04\n",
            "Epoch: 8/50  (batch: 20)  train loss: 0.00321  val loss: 0.00402  one-shot acc: 0.753  elapsed time(s): 27.01\n",
            "Epoch: 8/50  (batch: 40)  train loss: 0.00460  val loss: 0.00429  one-shot acc: 0.733  elapsed time(s): 25.07\n",
            "Epoch: 8/50  (batch: 60)  train loss: 0.00679  val loss: 0.00291  one-shot acc: 0.717  elapsed time(s): 25.27\n",
            "Epoch: 9/50  (batch: 20)  train loss: 0.00405  val loss: 0.00388  one-shot acc: 0.660  elapsed time(s): 27.34\n",
            "Epoch: 9/50  (batch: 40)  train loss: 0.00556  val loss: 0.00376  one-shot acc: 0.733  elapsed time(s): 25.09\n",
            "Epoch: 9/50  (batch: 60)  train loss: 0.00477  val loss: 0.00559  one-shot acc: 0.740  elapsed time(s): 25.21\n",
            "Epoch: 10/50  (batch: 20)  train loss: 0.00512  val loss: 0.00390  one-shot acc: 0.690  elapsed time(s): 27.21\n",
            "Epoch: 10/50  (batch: 40)  train loss: 0.00388  val loss: 0.00446  one-shot acc: 0.760  elapsed time(s): 25.14\n",
            "Epoch: 10/50  (batch: 60)  train loss: 0.00330  val loss: 0.00380  one-shot acc: 0.690  elapsed time(s): 25.20\n",
            "Epoch: 11/50  (batch: 20)  train loss: 0.00433  val loss: 0.00303  one-shot acc: 0.730  elapsed time(s): 27.13\n",
            "Epoch: 11/50  (batch: 40)  train loss: 0.00547  val loss: 0.00241  one-shot acc: 0.693  elapsed time(s): 25.12\n",
            "Epoch: 11/50  (batch: 60)  train loss: 0.00560  val loss: 0.00335  one-shot acc: 0.717  elapsed time(s): 25.14\n"
          ],
          "name": "stdout"
        },
        {
          "output_type": "error",
          "ename": "KeyboardInterrupt",
          "evalue": "ignored",
          "traceback": [
            "\u001b[0;31m---------------------------------------------------------------------------\u001b[0m",
            "\u001b[0;31mKeyboardInterrupt\u001b[0m                         Traceback (most recent call last)",
            "\u001b[0;32m<ipython-input-43-f9c58cf14794>\u001b[0m in \u001b[0;36m<module>\u001b[0;34m()\u001b[0m\n\u001b[1;32m      1\u001b[0m \u001b[0mmodel\u001b[0m\u001b[0;34m.\u001b[0m\u001b[0mload_state_dict\u001b[0m\u001b[0;34m(\u001b[0m\u001b[0mtorch\u001b[0m\u001b[0;34m.\u001b[0m\u001b[0mload\u001b[0m\u001b[0;34m(\u001b[0m\u001b[0;34m\"model_76.pt\"\u001b[0m\u001b[0;34m)\u001b[0m\u001b[0;34m)\u001b[0m\u001b[0;34m\u001b[0m\u001b[0;34m\u001b[0m\u001b[0m\n\u001b[1;32m      2\u001b[0m \u001b[0moptimizer\u001b[0m \u001b[0;34m=\u001b[0m \u001b[0moptim\u001b[0m\u001b[0;34m.\u001b[0m\u001b[0mAdam\u001b[0m\u001b[0;34m(\u001b[0m\u001b[0mmodel\u001b[0m\u001b[0;34m.\u001b[0m\u001b[0mparameters\u001b[0m\u001b[0;34m(\u001b[0m\u001b[0;34m)\u001b[0m\u001b[0;34m,\u001b[0m \u001b[0mlr\u001b[0m\u001b[0;34m=\u001b[0m\u001b[0;36m0.000006\u001b[0m\u001b[0;34m)\u001b[0m\u001b[0;34m\u001b[0m\u001b[0;34m\u001b[0m\u001b[0m\n\u001b[0;32m----> 3\u001b[0;31m \u001b[0mloss_dict2\u001b[0m \u001b[0;34m=\u001b[0m \u001b[0mtrain\u001b[0m\u001b[0;34m(\u001b[0m\u001b[0mmodel\u001b[0m\u001b[0;34m,\u001b[0m \u001b[0mcriterion\u001b[0m\u001b[0;34m,\u001b[0m \u001b[0moptimizer\u001b[0m\u001b[0;34m,\u001b[0m \u001b[0mn_epochs\u001b[0m\u001b[0;34m=\u001b[0m\u001b[0;36m50\u001b[0m\u001b[0;34m,\u001b[0m \u001b[0mn_test\u001b[0m\u001b[0;34m=\u001b[0m\u001b[0;36m300\u001b[0m\u001b[0;34m)\u001b[0m\u001b[0;34m\u001b[0m\u001b[0;34m\u001b[0m\u001b[0m\n\u001b[0m",
            "\u001b[0;32m<ipython-input-35-f4b8b8e0fa4c>\u001b[0m in \u001b[0;36mtrain\u001b[0;34m(model, criterion, optimizer, n_epochs, n_test, print_every, save_model_path, save_loss_dict_path)\u001b[0m\n\u001b[1;32m     15\u001b[0m         \u001b[0mmodel\u001b[0m\u001b[0;34m.\u001b[0m\u001b[0mtrain\u001b[0m\u001b[0;34m(\u001b[0m\u001b[0;34m)\u001b[0m\u001b[0;34m\u001b[0m\u001b[0;34m\u001b[0m\u001b[0m\n\u001b[1;32m     16\u001b[0m         \u001b[0mrunning_loss\u001b[0m \u001b[0;34m=\u001b[0m \u001b[0;36m0.0\u001b[0m\u001b[0;34m\u001b[0m\u001b[0;34m\u001b[0m\u001b[0m\n\u001b[0;32m---> 17\u001b[0;31m         \u001b[0;32mfor\u001b[0m \u001b[0mbatch_i\u001b[0m\u001b[0;34m,\u001b[0m \u001b[0;34m(\u001b[0m\u001b[0mimg1\u001b[0m\u001b[0;34m,\u001b[0m \u001b[0mimg2\u001b[0m\u001b[0;34m,\u001b[0m \u001b[0mlabels\u001b[0m\u001b[0;34m)\u001b[0m \u001b[0;32min\u001b[0m \u001b[0menumerate\u001b[0m\u001b[0;34m(\u001b[0m\u001b[0mtrain_loader\u001b[0m\u001b[0;34m)\u001b[0m\u001b[0;34m:\u001b[0m\u001b[0;34m\u001b[0m\u001b[0;34m\u001b[0m\u001b[0m\n\u001b[0m\u001b[1;32m     18\u001b[0m             \u001b[0mimg1\u001b[0m\u001b[0;34m,\u001b[0m \u001b[0mimg2\u001b[0m\u001b[0;34m,\u001b[0m \u001b[0mlabels\u001b[0m \u001b[0;34m=\u001b[0m \u001b[0mimg1\u001b[0m\u001b[0;34m.\u001b[0m\u001b[0mto\u001b[0m\u001b[0;34m(\u001b[0m\u001b[0mdevice\u001b[0m\u001b[0;34m)\u001b[0m\u001b[0;34m,\u001b[0m \u001b[0mimg2\u001b[0m\u001b[0;34m.\u001b[0m\u001b[0mto\u001b[0m\u001b[0;34m(\u001b[0m\u001b[0mdevice\u001b[0m\u001b[0;34m)\u001b[0m\u001b[0;34m,\u001b[0m \u001b[0mlabels\u001b[0m\u001b[0;34m.\u001b[0m\u001b[0mto\u001b[0m\u001b[0;34m(\u001b[0m\u001b[0mdevice\u001b[0m\u001b[0;34m)\u001b[0m\u001b[0;34m\u001b[0m\u001b[0;34m\u001b[0m\u001b[0m\n\u001b[1;32m     19\u001b[0m             \u001b[0mouts\u001b[0m \u001b[0;34m=\u001b[0m \u001b[0mmodel\u001b[0m\u001b[0;34m(\u001b[0m\u001b[0mimg1\u001b[0m\u001b[0;34m,\u001b[0m \u001b[0mimg2\u001b[0m\u001b[0;34m)\u001b[0m\u001b[0;34m\u001b[0m\u001b[0;34m\u001b[0m\u001b[0m\n",
            "\u001b[0;32m/usr/local/lib/python3.6/dist-packages/torch/utils/data/dataloader.py\u001b[0m in \u001b[0;36m__next__\u001b[0;34m(self)\u001b[0m\n\u001b[1;32m    361\u001b[0m \u001b[0;34m\u001b[0m\u001b[0m\n\u001b[1;32m    362\u001b[0m     \u001b[0;32mdef\u001b[0m \u001b[0m__next__\u001b[0m\u001b[0;34m(\u001b[0m\u001b[0mself\u001b[0m\u001b[0;34m)\u001b[0m\u001b[0;34m:\u001b[0m\u001b[0;34m\u001b[0m\u001b[0;34m\u001b[0m\u001b[0m\n\u001b[0;32m--> 363\u001b[0;31m         \u001b[0mdata\u001b[0m \u001b[0;34m=\u001b[0m \u001b[0mself\u001b[0m\u001b[0;34m.\u001b[0m\u001b[0m_next_data\u001b[0m\u001b[0;34m(\u001b[0m\u001b[0;34m)\u001b[0m\u001b[0;34m\u001b[0m\u001b[0;34m\u001b[0m\u001b[0m\n\u001b[0m\u001b[1;32m    364\u001b[0m         \u001b[0mself\u001b[0m\u001b[0;34m.\u001b[0m\u001b[0m_num_yielded\u001b[0m \u001b[0;34m+=\u001b[0m \u001b[0;36m1\u001b[0m\u001b[0;34m\u001b[0m\u001b[0;34m\u001b[0m\u001b[0m\n\u001b[1;32m    365\u001b[0m         \u001b[0;32mif\u001b[0m \u001b[0mself\u001b[0m\u001b[0;34m.\u001b[0m\u001b[0m_dataset_kind\u001b[0m \u001b[0;34m==\u001b[0m \u001b[0m_DatasetKind\u001b[0m\u001b[0;34m.\u001b[0m\u001b[0mIterable\u001b[0m \u001b[0;32mand\u001b[0m\u001b[0;31m \u001b[0m\u001b[0;31m\\\u001b[0m\u001b[0;34m\u001b[0m\u001b[0;34m\u001b[0m\u001b[0m\n",
            "\u001b[0;32m/usr/local/lib/python3.6/dist-packages/torch/utils/data/dataloader.py\u001b[0m in \u001b[0;36m_next_data\u001b[0;34m(self)\u001b[0m\n\u001b[1;32m    961\u001b[0m             \u001b[0;32melse\u001b[0m\u001b[0;34m:\u001b[0m\u001b[0;34m\u001b[0m\u001b[0;34m\u001b[0m\u001b[0m\n\u001b[1;32m    962\u001b[0m                 \u001b[0;31m# no valid `self._rcvd_idx` is found (i.e., didn't break)\u001b[0m\u001b[0;34m\u001b[0m\u001b[0;34m\u001b[0m\u001b[0;34m\u001b[0m\u001b[0m\n\u001b[0;32m--> 963\u001b[0;31m                 \u001b[0mself\u001b[0m\u001b[0;34m.\u001b[0m\u001b[0m_shutdown_workers\u001b[0m\u001b[0;34m(\u001b[0m\u001b[0;34m)\u001b[0m\u001b[0;34m\u001b[0m\u001b[0;34m\u001b[0m\u001b[0m\n\u001b[0m\u001b[1;32m    964\u001b[0m                 \u001b[0;32mraise\u001b[0m \u001b[0mStopIteration\u001b[0m\u001b[0;34m\u001b[0m\u001b[0;34m\u001b[0m\u001b[0m\n\u001b[1;32m    965\u001b[0m \u001b[0;34m\u001b[0m\u001b[0m\n",
            "\u001b[0;32m/usr/local/lib/python3.6/dist-packages/torch/utils/data/dataloader.py\u001b[0m in \u001b[0;36m_shutdown_workers\u001b[0;34m(self)\u001b[0m\n\u001b[1;32m   1073\u001b[0m                         \u001b[0mself\u001b[0m\u001b[0;34m.\u001b[0m\u001b[0m_shutdown_worker\u001b[0m\u001b[0;34m(\u001b[0m\u001b[0mworker_id\u001b[0m\u001b[0;34m)\u001b[0m\u001b[0;34m\u001b[0m\u001b[0;34m\u001b[0m\u001b[0m\n\u001b[1;32m   1074\u001b[0m                 \u001b[0;32mfor\u001b[0m \u001b[0mw\u001b[0m \u001b[0;32min\u001b[0m \u001b[0mself\u001b[0m\u001b[0;34m.\u001b[0m\u001b[0m_workers\u001b[0m\u001b[0;34m:\u001b[0m\u001b[0;34m\u001b[0m\u001b[0;34m\u001b[0m\u001b[0m\n\u001b[0;32m-> 1075\u001b[0;31m                     \u001b[0mw\u001b[0m\u001b[0;34m.\u001b[0m\u001b[0mjoin\u001b[0m\u001b[0;34m(\u001b[0m\u001b[0mtimeout\u001b[0m\u001b[0;34m=\u001b[0m\u001b[0m_utils\u001b[0m\u001b[0;34m.\u001b[0m\u001b[0mMP_STATUS_CHECK_INTERVAL\u001b[0m\u001b[0;34m)\u001b[0m\u001b[0;34m\u001b[0m\u001b[0;34m\u001b[0m\u001b[0m\n\u001b[0m\u001b[1;32m   1076\u001b[0m                     \u001b[0;32mif\u001b[0m \u001b[0mw\u001b[0m\u001b[0;34m.\u001b[0m\u001b[0mis_alive\u001b[0m\u001b[0;34m(\u001b[0m\u001b[0;34m)\u001b[0m\u001b[0;34m:\u001b[0m\u001b[0;34m\u001b[0m\u001b[0;34m\u001b[0m\u001b[0m\n\u001b[1;32m   1077\u001b[0m                         \u001b[0;31m# Existing mechanisms try to make the workers exit\u001b[0m\u001b[0;34m\u001b[0m\u001b[0;34m\u001b[0m\u001b[0;34m\u001b[0m\u001b[0m\n",
            "\u001b[0;32m/usr/lib/python3.6/multiprocessing/process.py\u001b[0m in \u001b[0;36mjoin\u001b[0;34m(self, timeout)\u001b[0m\n\u001b[1;32m    122\u001b[0m         \u001b[0;32massert\u001b[0m \u001b[0mself\u001b[0m\u001b[0;34m.\u001b[0m\u001b[0m_parent_pid\u001b[0m \u001b[0;34m==\u001b[0m \u001b[0mos\u001b[0m\u001b[0;34m.\u001b[0m\u001b[0mgetpid\u001b[0m\u001b[0;34m(\u001b[0m\u001b[0;34m)\u001b[0m\u001b[0;34m,\u001b[0m \u001b[0;34m'can only join a child process'\u001b[0m\u001b[0;34m\u001b[0m\u001b[0;34m\u001b[0m\u001b[0m\n\u001b[1;32m    123\u001b[0m         \u001b[0;32massert\u001b[0m \u001b[0mself\u001b[0m\u001b[0;34m.\u001b[0m\u001b[0m_popen\u001b[0m \u001b[0;32mis\u001b[0m \u001b[0;32mnot\u001b[0m \u001b[0;32mNone\u001b[0m\u001b[0;34m,\u001b[0m \u001b[0;34m'can only join a started process'\u001b[0m\u001b[0;34m\u001b[0m\u001b[0;34m\u001b[0m\u001b[0m\n\u001b[0;32m--> 124\u001b[0;31m         \u001b[0mres\u001b[0m \u001b[0;34m=\u001b[0m \u001b[0mself\u001b[0m\u001b[0;34m.\u001b[0m\u001b[0m_popen\u001b[0m\u001b[0;34m.\u001b[0m\u001b[0mwait\u001b[0m\u001b[0;34m(\u001b[0m\u001b[0mtimeout\u001b[0m\u001b[0;34m)\u001b[0m\u001b[0;34m\u001b[0m\u001b[0;34m\u001b[0m\u001b[0m\n\u001b[0m\u001b[1;32m    125\u001b[0m         \u001b[0;32mif\u001b[0m \u001b[0mres\u001b[0m \u001b[0;32mis\u001b[0m \u001b[0;32mnot\u001b[0m \u001b[0;32mNone\u001b[0m\u001b[0;34m:\u001b[0m\u001b[0;34m\u001b[0m\u001b[0;34m\u001b[0m\u001b[0m\n\u001b[1;32m    126\u001b[0m             \u001b[0m_children\u001b[0m\u001b[0;34m.\u001b[0m\u001b[0mdiscard\u001b[0m\u001b[0;34m(\u001b[0m\u001b[0mself\u001b[0m\u001b[0;34m)\u001b[0m\u001b[0;34m\u001b[0m\u001b[0;34m\u001b[0m\u001b[0m\n",
            "\u001b[0;32m/usr/lib/python3.6/multiprocessing/popen_fork.py\u001b[0m in \u001b[0;36mwait\u001b[0;34m(self, timeout)\u001b[0m\n\u001b[1;32m     45\u001b[0m             \u001b[0;32mif\u001b[0m \u001b[0mtimeout\u001b[0m \u001b[0;32mis\u001b[0m \u001b[0;32mnot\u001b[0m \u001b[0;32mNone\u001b[0m\u001b[0;34m:\u001b[0m\u001b[0;34m\u001b[0m\u001b[0;34m\u001b[0m\u001b[0m\n\u001b[1;32m     46\u001b[0m                 \u001b[0;32mfrom\u001b[0m \u001b[0mmultiprocessing\u001b[0m\u001b[0;34m.\u001b[0m\u001b[0mconnection\u001b[0m \u001b[0;32mimport\u001b[0m \u001b[0mwait\u001b[0m\u001b[0;34m\u001b[0m\u001b[0;34m\u001b[0m\u001b[0m\n\u001b[0;32m---> 47\u001b[0;31m                 \u001b[0;32mif\u001b[0m \u001b[0;32mnot\u001b[0m \u001b[0mwait\u001b[0m\u001b[0;34m(\u001b[0m\u001b[0;34m[\u001b[0m\u001b[0mself\u001b[0m\u001b[0;34m.\u001b[0m\u001b[0msentinel\u001b[0m\u001b[0;34m]\u001b[0m\u001b[0;34m,\u001b[0m \u001b[0mtimeout\u001b[0m\u001b[0;34m)\u001b[0m\u001b[0;34m:\u001b[0m\u001b[0;34m\u001b[0m\u001b[0;34m\u001b[0m\u001b[0m\n\u001b[0m\u001b[1;32m     48\u001b[0m                     \u001b[0;32mreturn\u001b[0m \u001b[0;32mNone\u001b[0m\u001b[0;34m\u001b[0m\u001b[0;34m\u001b[0m\u001b[0m\n\u001b[1;32m     49\u001b[0m             \u001b[0;31m# This shouldn't block if wait() returned successfully.\u001b[0m\u001b[0;34m\u001b[0m\u001b[0;34m\u001b[0m\u001b[0;34m\u001b[0m\u001b[0m\n",
            "\u001b[0;32m/usr/lib/python3.6/multiprocessing/connection.py\u001b[0m in \u001b[0;36mwait\u001b[0;34m(object_list, timeout)\u001b[0m\n\u001b[1;32m    909\u001b[0m \u001b[0;34m\u001b[0m\u001b[0m\n\u001b[1;32m    910\u001b[0m             \u001b[0;32mwhile\u001b[0m \u001b[0;32mTrue\u001b[0m\u001b[0;34m:\u001b[0m\u001b[0;34m\u001b[0m\u001b[0;34m\u001b[0m\u001b[0m\n\u001b[0;32m--> 911\u001b[0;31m                 \u001b[0mready\u001b[0m \u001b[0;34m=\u001b[0m \u001b[0mselector\u001b[0m\u001b[0;34m.\u001b[0m\u001b[0mselect\u001b[0m\u001b[0;34m(\u001b[0m\u001b[0mtimeout\u001b[0m\u001b[0;34m)\u001b[0m\u001b[0;34m\u001b[0m\u001b[0;34m\u001b[0m\u001b[0m\n\u001b[0m\u001b[1;32m    912\u001b[0m                 \u001b[0;32mif\u001b[0m \u001b[0mready\u001b[0m\u001b[0;34m:\u001b[0m\u001b[0;34m\u001b[0m\u001b[0;34m\u001b[0m\u001b[0m\n\u001b[1;32m    913\u001b[0m                     \u001b[0;32mreturn\u001b[0m \u001b[0;34m[\u001b[0m\u001b[0mkey\u001b[0m\u001b[0;34m.\u001b[0m\u001b[0mfileobj\u001b[0m \u001b[0;32mfor\u001b[0m \u001b[0;34m(\u001b[0m\u001b[0mkey\u001b[0m\u001b[0;34m,\u001b[0m \u001b[0mevents\u001b[0m\u001b[0;34m)\u001b[0m \u001b[0;32min\u001b[0m \u001b[0mready\u001b[0m\u001b[0;34m]\u001b[0m\u001b[0;34m\u001b[0m\u001b[0;34m\u001b[0m\u001b[0m\n",
            "\u001b[0;32m/usr/lib/python3.6/selectors.py\u001b[0m in \u001b[0;36mselect\u001b[0;34m(self, timeout)\u001b[0m\n\u001b[1;32m    374\u001b[0m             \u001b[0mready\u001b[0m \u001b[0;34m=\u001b[0m \u001b[0;34m[\u001b[0m\u001b[0;34m]\u001b[0m\u001b[0;34m\u001b[0m\u001b[0;34m\u001b[0m\u001b[0m\n\u001b[1;32m    375\u001b[0m             \u001b[0;32mtry\u001b[0m\u001b[0;34m:\u001b[0m\u001b[0;34m\u001b[0m\u001b[0;34m\u001b[0m\u001b[0m\n\u001b[0;32m--> 376\u001b[0;31m                 \u001b[0mfd_event_list\u001b[0m \u001b[0;34m=\u001b[0m \u001b[0mself\u001b[0m\u001b[0;34m.\u001b[0m\u001b[0m_poll\u001b[0m\u001b[0;34m.\u001b[0m\u001b[0mpoll\u001b[0m\u001b[0;34m(\u001b[0m\u001b[0mtimeout\u001b[0m\u001b[0;34m)\u001b[0m\u001b[0;34m\u001b[0m\u001b[0;34m\u001b[0m\u001b[0m\n\u001b[0m\u001b[1;32m    377\u001b[0m             \u001b[0;32mexcept\u001b[0m \u001b[0mInterruptedError\u001b[0m\u001b[0;34m:\u001b[0m\u001b[0;34m\u001b[0m\u001b[0;34m\u001b[0m\u001b[0m\n\u001b[1;32m    378\u001b[0m                 \u001b[0;32mreturn\u001b[0m \u001b[0mready\u001b[0m\u001b[0;34m\u001b[0m\u001b[0;34m\u001b[0m\u001b[0m\n",
            "\u001b[0;31mKeyboardInterrupt\u001b[0m: "
          ]
        }
      ]
    },
    {
      "cell_type": "markdown",
      "metadata": {
        "id": "Lmkx9YrhDMEg",
        "colab_type": "text"
      },
      "source": [
        "Not much improvement."
      ]
    },
    {
      "cell_type": "code",
      "metadata": {
        "id": "bLLJRBjdsv8l",
        "colab_type": "code",
        "colab": {
          "base_uri": "https://localhost:8080/",
          "height": 285
        },
        "outputId": "5db76a31-9018-4563-c4bf-579b3852445e"
      },
      "source": [
        "# sample novel test class prediction & visualization\n",
        "random_test_idx = random.choice(range(len(test_loader)))\n",
        "model.eval()\n",
        "with torch.no_grad:\n",
        "    for i, (img1, imgs, label) in enumerate(test_loader): \n",
        "        if i==random_test_idx:\n",
        "            plt.imshow(img1[0][0])\n",
        "            plt.show()\n",
        "            img1 = img1.to(device)\n",
        "            similarity_scores = []\n",
        "            for j, img2 in enumerate(imgs):\n",
        "                img2 = img2.to(device)\n",
        "                similarity_scores.append( model(img1, img2) )\n",
        "            pred_i = np.argmax(similarity_scores)\n",
        "            if pred_i == label[0]:\n",
        "                pred_img = imgs[pred_i][0][0]\n",
        "                print(\"correct novel class prediction!\")\n",
        "            break"
      ],
      "execution_count": null,
      "outputs": [
        {
          "output_type": "display_data",
          "data": {
            "image/png": "[encoded data removed]",
            "text/plain": [
              "<Figure size 432x288 with 1 Axes>"
            ]
          },
          "metadata": {
            "tags": [],
            "needs_background": "light"
          }
        },
        {
          "output_type": "stream",
          "text": [
            "correct novel class prediction!\n"
          ],
          "name": "stdout"
        }
      ]
    },
    {
      "cell_type": "code",
      "metadata": {
        "id": "J2AFiNl2tzkQ",
        "colab_type": "code",
        "colab": {
          "base_uri": "https://localhost:8080/",
          "height": 285
        },
        "outputId": "8d39121e-6e99-451b-bcc3-e2df360ebdf9"
      },
      "source": [
        "plt.imshow(pred_img)"
      ],
      "execution_count": null,
      "outputs": [
        {
          "output_type": "execute_result",
          "data": {
            "text/plain": [
              "<matplotlib.image.AxesImage at 0x7ffa5ae7af60>"
            ]
          },
          "metadata": {
            "tags": []
          },
          "execution_count": 21
        },
        {
          "output_type": "display_data",
          "data": {
            "image/png": "[encoded data removed]",
            "text/plain": [
              "<Figure size 432x288 with 1 Axes>"
            ]
          },
          "metadata": {
            "tags": [],
            "needs_background": "light"
          }
        }
      ]
    }
  ]
}